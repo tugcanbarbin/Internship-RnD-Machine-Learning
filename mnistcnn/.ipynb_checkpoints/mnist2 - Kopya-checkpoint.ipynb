{
 "cells": [
  {
   "cell_type": "code",
   "execution_count": null,
   "metadata": {
    "colab": {
     "background_save": true
    },
    "id": "ssD59xeyr73U"
   },
   "outputs": [],
   "source": [
    "# Python Project Template\n",
    "# 1. Prepare Problem #\n",
    "# a) Load libraries\n",
    "# b) Load dataset\n",
    "\n",
    "# 2. Summarize Data \n",
    "# a) Descriptive statistics \n",
    "# b) Data visualizations\n",
    "\n",
    "# 3. Prepare Data \n",
    "# a) Data Cleaning \n",
    "# b) Feature Selection \n",
    "# c) Data Transforms\n",
    "\n",
    "# 4. Evaluate Algorithms \n",
    "# a) Split-out validation dataset \n",
    "# b) Test options and evaluation metric \n",
    "# c) Spot Check Algorithms \n",
    "# d) Compare Algorithms\n",
    "\n",
    "# 5. Improve Accuracy \n",
    "# a) Algorithm Tuning \n",
    "# b) Ensembles\n",
    "\n",
    "# 6. Finalize Model \n",
    "# a) Predictions on validation dataset \n",
    "# b) Create standalone model on entire training dataset\n",
    "# c) Save model for later use"
   ]
  },
  {
   "cell_type": "code",
   "execution_count": null,
   "metadata": {
    "colab": {
     "background_save": true
    },
    "id": "rot5cNDlsBTF"
   },
   "outputs": [],
   "source": [
    "# 1. Prepare Problem #\n",
    "# a) Load libraries\n",
    "from keras.datasets import mnist\n",
    "from matplotlib import pyplot as plt\n",
    "from sklearn.model_selection import train_test_split\n",
    "import sklearn\n",
    "from sklearn.pipeline import Pipeline\n",
    "from sklearn.model_selection import GridSearchCV\n",
    "from sklearn.metrics import make_scorer\n",
    "from tensorflow.keras.wrappers.scikit_learn import KerasClassifier\n",
    "from sklearn.linear_model import LogisticRegression\n",
    "from sklearn.metrics import accuracy_score\n",
    "from sklearn import linear_model\n",
    "from sklearn import metrics\n",
    "from sklearn.model_selection import train_test_split\n",
    "from sklearn.pipeline import Pipeline\n",
    "from sklearn.model_selection import GridSearchCV\n",
    "import keras\n",
    "from keras.models import Sequential\n",
    "from keras.layers import Dense\n",
    "from tensorflow.keras.layers import Dropout\n",
    "from keras.optimizers import Adam\n",
    "from keras.callbacks import EarlyStopping\n",
    "\n",
    "# c) Spot Check Algorithms \n",
    "#Logistic Regression\n"
   ]
  },
  {
   "cell_type": "code",
   "execution_count": null,
   "metadata": {
    "colab": {
     "background_save": true
    },
    "id": "P42GxmqYsJcF"
   },
   "outputs": [],
   "source": [
    "# b) load dataset\n",
    "(trainX, trainy), (testX, testy) = mnist.load_data()"
   ]
  },
  {
   "cell_type": "code",
   "execution_count": null,
   "metadata": {
    "colab": {
     "background_save": true
    },
    "id": "IC9K6Z54sLZd",
    "outputId": "6b2438fd-f35e-4752-9cdf-ecbbdbf4fa8d"
   },
   "outputs": [
    {
     "name": "stdout",
     "output_type": "stream",
     "text": [
      "Train input shape  (60000, 28, 28)\n",
      "Train label shape  (60000,)\n",
      "[5 0 4 ... 5 6 8]\n",
      "[[  0   0   0   0   0   0   0   0   0   0   0   0   0   0   0   0   0   0\n",
      "    0   0   0   0   0   0   0   0   0   0]\n",
      " [  0   0   0   0   0   0   0   0   0   0   0   0   0   0   0   0   0   0\n",
      "    0   0   0   0   0   0   0   0   0   0]\n",
      " [  0   0   0   0   0   0   0   0   0   0   0   0   0   0   0   0   0   0\n",
      "    0   0   0   0   0   0   0   0   0   0]\n",
      " [  0   0   0   0   0   0   0   0   0   0   0   0   0   0   0   0   0   0\n",
      "    0   0   0   0   0   0   0   0   0   0]\n",
      " [  0   0   0   0   0   0   0   0   0   0   0   0   0   0   0   0   0   0\n",
      "    0   0   0   0   0   0   0   0   0   0]\n",
      " [  0   0   0   0   0   0   0   0   0   0   0   0   3  18  18  18 126 136\n",
      "  175  26 166 255 247 127   0   0   0   0]\n",
      " [  0   0   0   0   0   0   0   0  30  36  94 154 170 253 253 253 253 253\n",
      "  225 172 253 242 195  64   0   0   0   0]\n",
      " [  0   0   0   0   0   0   0  49 238 253 253 253 253 253 253 253 253 251\n",
      "   93  82  82  56  39   0   0   0   0   0]\n",
      " [  0   0   0   0   0   0   0  18 219 253 253 253 253 253 198 182 247 241\n",
      "    0   0   0   0   0   0   0   0   0   0]\n",
      " [  0   0   0   0   0   0   0   0  80 156 107 253 253 205  11   0  43 154\n",
      "    0   0   0   0   0   0   0   0   0   0]\n",
      " [  0   0   0   0   0   0   0   0   0  14   1 154 253  90   0   0   0   0\n",
      "    0   0   0   0   0   0   0   0   0   0]\n",
      " [  0   0   0   0   0   0   0   0   0   0   0 139 253 190   2   0   0   0\n",
      "    0   0   0   0   0   0   0   0   0   0]\n",
      " [  0   0   0   0   0   0   0   0   0   0   0  11 190 253  70   0   0   0\n",
      "    0   0   0   0   0   0   0   0   0   0]\n",
      " [  0   0   0   0   0   0   0   0   0   0   0   0  35 241 225 160 108   1\n",
      "    0   0   0   0   0   0   0   0   0   0]\n",
      " [  0   0   0   0   0   0   0   0   0   0   0   0   0  81 240 253 253 119\n",
      "   25   0   0   0   0   0   0   0   0   0]\n",
      " [  0   0   0   0   0   0   0   0   0   0   0   0   0   0  45 186 253 253\n",
      "  150  27   0   0   0   0   0   0   0   0]\n",
      " [  0   0   0   0   0   0   0   0   0   0   0   0   0   0   0  16  93 252\n",
      "  253 187   0   0   0   0   0   0   0   0]\n",
      " [  0   0   0   0   0   0   0   0   0   0   0   0   0   0   0   0   0 249\n",
      "  253 249  64   0   0   0   0   0   0   0]\n",
      " [  0   0   0   0   0   0   0   0   0   0   0   0   0   0  46 130 183 253\n",
      "  253 207   2   0   0   0   0   0   0   0]\n",
      " [  0   0   0   0   0   0   0   0   0   0   0   0  39 148 229 253 253 253\n",
      "  250 182   0   0   0   0   0   0   0   0]\n",
      " [  0   0   0   0   0   0   0   0   0   0  24 114 221 253 253 253 253 201\n",
      "   78   0   0   0   0   0   0   0   0   0]\n",
      " [  0   0   0   0   0   0   0   0  23  66 213 253 253 253 253 198  81   2\n",
      "    0   0   0   0   0   0   0   0   0   0]\n",
      " [  0   0   0   0   0   0  18 171 219 253 253 253 253 195  80   9   0   0\n",
      "    0   0   0   0   0   0   0   0   0   0]\n",
      " [  0   0   0   0  55 172 226 253 253 253 253 244 133  11   0   0   0   0\n",
      "    0   0   0   0   0   0   0   0   0   0]\n",
      " [  0   0   0   0 136 253 253 253 212 135 132  16   0   0   0   0   0   0\n",
      "    0   0   0   0   0   0   0   0   0   0]\n",
      " [  0   0   0   0   0   0   0   0   0   0   0   0   0   0   0   0   0   0\n",
      "    0   0   0   0   0   0   0   0   0   0]\n",
      " [  0   0   0   0   0   0   0   0   0   0   0   0   0   0   0   0   0   0\n",
      "    0   0   0   0   0   0   0   0   0   0]\n",
      " [  0   0   0   0   0   0   0   0   0   0   0   0   0   0   0   0   0   0\n",
      "    0   0   0   0   0   0   0   0   0   0]]\n"
     ]
    }
   ],
   "source": [
    "# 2. Summarize Data \n",
    "# a) Descriptive statistics \n",
    "print( \"Train input shape \",trainX.shape)\n",
    "print( \"Train label shape \",trainy.shape)\n",
    "print(trainy)\n",
    "print(trainX[0])"
   ]
  },
  {
   "cell_type": "code",
   "execution_count": null,
   "metadata": {
    "colab": {
     "background_save": true
    },
    "id": "U6S4Dqv9sO7h",
    "outputId": "4eabdea6-c582-4ca2-919a-dc1b902c6d84"
   },
   "outputs": [
    {
     "name": "stdout",
     "output_type": "stream",
     "text": [
      "maxmimum label is  9\n",
      "minimum label is  0\n",
      "mean of labels is  4.4539333333333335\n",
      "standart deviation of labels is  2.889246360020012\n"
     ]
    }
   ],
   "source": [
    "print(\"maxmimum label is \", max(trainy))\n",
    "print( \"minimum label is \", min(trainy))\n",
    "print(\"mean of labels is \", trainy.mean())\n",
    "print(\"standart deviation of labels is \" ,trainy.std())"
   ]
  },
  {
   "cell_type": "code",
   "execution_count": null,
   "metadata": {
    "colab": {
     "background_save": true
    },
    "id": "Jt1KetThsQxJ",
    "outputId": "9573f453-fb6a-4a96-8923-49e44a79c831"
   },
   "outputs": [
    {
     "name": "stdout",
     "output_type": "stream",
     "text": [
      "maxmimum input is  255\n",
      "minimum input is  0\n",
      "mean of inputs is  33.318421449829934\n",
      "standart deviation of inputs is  78.56748998339798\n"
     ]
    }
   ],
   "source": [
    "print(\"maxmimum input is \", trainX.max())\n",
    "print( \"minimum input is \", trainX.min())\n",
    "print(\"mean of inputs is \", trainX.mean())\n",
    "print(\"standart deviation of inputs is \" ,trainX.std())"
   ]
  },
  {
   "cell_type": "code",
   "execution_count": null,
   "metadata": {
    "colab": {
     "background_save": true
    },
    "id": "LY06_0VQsSNd",
    "outputId": "e4e69714-053e-461a-9efb-afbe6711d34f"
   },
   "outputs": [
    {
     "data": {
      "image/png": "[encoded data removed]",
      "text/plain": [
       "<Figure size 432x288 with 16 Axes>"
      ]
     },
     "metadata": {},
     "output_type": "display_data"
    }
   ],
   "source": [
    "# b) Data visualizations\n",
    "numberofsamples = 16\n",
    "for i in range(numberofsamples):\n",
    "  #plt.figure(figsize=(10,10)) to see bigger images\n",
    "  plt.subplot(numberofsamples /4,4, i+1)\n",
    "  plt.imshow(trainX[i], cmap = plt.get_cmap('gray'))"
   ]
  },
  {
   "cell_type": "code",
   "execution_count": null,
   "metadata": {
    "colab": {
     "background_save": true
    },
    "id": "5D-ZJgdEsVbc"
   },
   "outputs": [],
   "source": [
    "# 3. Prepare Data \n",
    "# a) Data Cleaning \n",
    " \n",
    "# Dataset does not have any empty or corrupted data.\n",
    "\n",
    "\n",
    "# b) Feature Selection \n",
    "\n",
    "# since we use grey scale images, we only have 2 dimensional pixels, so we do not select anything"
   ]
  },
  {
   "cell_type": "code",
   "execution_count": null,
   "metadata": {
    "colab": {
     "background_save": true
    },
    "id": "H97fTgQjsYHm"
   },
   "outputs": [],
   "source": [
    "# c) Data Transforms\n",
    "\n",
    "\n",
    "#we transform the input as 2D array to fit to our deep learning model\n",
    "trainX_reshaped = trainX.reshape(trainX.shape[0], trainX.shape[1]* trainX.shape[2]) \n",
    "testX_reshaped = testX.reshape(testX.shape[0], testX.shape[1]* testX.shape[2]) "
   ]
  },
  {
   "cell_type": "code",
   "execution_count": null,
   "metadata": {
    "colab": {
     "background_save": true
    },
    "id": "a3b7Hp-UsaHb",
    "outputId": "5f4be0ec-f2e8-484f-983d-3350c3929cf2"
   },
   "outputs": [
    {
     "name": "stdout",
     "output_type": "stream",
     "text": [
      "our new shape is  (60000, 784) \n",
      "\n"
     ]
    }
   ],
   "source": [
    "print(\"our new shape is \",trainX_reshaped.shape, \"\\n\")\n",
    "#normalize our data to work on smaller scale\n",
    "trainX_reshaped[1] =trainX_reshaped[1] /trainX_reshaped[1].max()\n",
    "testX_reshaped[1] =testX_reshaped[1] /testX_reshaped[1].max()"
   ]
  },
  {
   "cell_type": "code",
   "execution_count": null,
   "metadata": {
    "colab": {
     "background_save": true
    },
    "id": "OmpRDMYPsbiK",
    "outputId": "5c7e62cf-06a9-494a-ed53-104ee4269040"
   },
   "outputs": [
    {
     "name": "stdout",
     "output_type": "stream",
     "text": [
      "Since we normalized our data, maximum number of input is  1  instead of 255. And minimum is 0\n"
     ]
    }
   ],
   "source": [
    "print(\"Since we normalized our data, maximum number of input is \",trainX_reshaped[1].max(), \" instead of 255. And minimum is 0\")\n"
   ]
  },
  {
   "cell_type": "code",
   "execution_count": null,
   "metadata": {
    "colab": {
     "background_save": true
    },
    "id": "boowp3rzsffI"
   },
   "outputs": [],
   "source": [
    "# 4. Evaluate Algorithms \n",
    "# a) Split-out validation dataset \n",
    "\n",
    "# we will divide the validation set when we are creating our model.\n",
    "validation_split = 0.2\n",
    "x_train_logistic,x_val_logistic, y_train_logistic, y_val_logistic = train_test_split(trainX_reshaped, trainy, test_size = validation_split, random_state = 1)\n",
    "x_train_cnn,x_val_cnn, y_train_cnn, y_val_cnn = train_test_split(trainX_reshaped, trainy, test_size = validation_split-0.1, random_state = 1)"
   ]
  },
  {
   "cell_type": "code",
   "execution_count": null,
   "metadata": {
    "colab": {
     "background_save": true
    },
    "id": "49GYpDcUXUJb",
    "outputId": "94eafece-afa6-4263-bc54-3f5bcd6b8cab"
   },
   "outputs": [
    {
     "data": {
      "text/plain": [
       "((48000, 784),)"
      ]
     },
     "execution_count": null,
     "metadata": {},
     "output_type": "execute_result"
    }
   ],
   "source": [
    "x_train_logistic.shape,"
   ]
  },
  {
   "cell_type": "code",
   "execution_count": null,
   "metadata": {
    "colab": {
     "background_save": true
    },
    "id": "pwOPDSo_shJM"
   },
   "outputs": [],
   "source": [
    "# b) Test options and evaluation metric \n",
    "#####Logistic Regression\n",
    "#Initiate the LR model:\n",
    "\n",
    "\n",
    "# # # # max_iter=2000\n",
    "# # # # mnb_pipeline = Pipeline([\n",
    "# # # #                          ('Lr', LogisticRegression())\n",
    "# # # # ])\n",
    "\n",
    "# # # # # Set the hyperparameter space that will be scanned:\n",
    "# # # # #     C = (0.001,0.01,0.1,1)     1 OVER LAMDA\n",
    "# # # # hyperparameters = dict(\n",
    "# # # #     Lr__C = (0.001,0.01,0.1,1),\n",
    "# # # #     Lr__max_iter = (2000,),\n",
    "# # # # )\n",
    "\n",
    "# # # # #Let the GridSearchCV scan the hyperparameter and find the best hyperparameter set that will maximize the scoring option.\n",
    "# # # # #   cv = 3\n",
    "# # # # #   scoring = \"accuracy\"\n",
    "# # # # mnb_grid_search = GridSearchCV(mnb_pipeline, hyperparameters, cv=3, scoring = 'accuracy', n_jobs=-1)\n",
    "# # # # mnb_grid_search.fit(x_train_logistic,y_train_logistic)\n",
    "\n",
    "\n",
    "\n",
    "# #### ANN\n",
    "# batch_size = 256\n",
    "# epochs = 5\n",
    "# loss = 'sparse_categorical_crossentropy'\n",
    "# metrics1 = \"accuracy\""
   ]
  },
  {
   "cell_type": "code",
   "execution_count": null,
   "metadata": {
    "colab": {
     "background_save": true
    },
    "id": "eS3tC4rVsjE6"
   },
   "outputs": [],
   "source": [
    "# c) Spot Check Algorithms \n",
    "#Logistic Regression\n"
   ]
  },
  {
   "cell_type": "code",
   "execution_count": null,
   "metadata": {
    "colab": {
     "background_save": true
    },
    "id": "MH76EYZfspmG",
    "outputId": "ab602ef2-836a-488d-f9a0-f9510cce4ca2"
   },
   "outputs": [
    {
     "name": "stdout",
     "output_type": "stream",
     "text": [
      "validation accuracy:  92.03333333333333\n",
      "test accuracy:  92.16\n"
     ]
    },
    {
     "name": "stderr",
     "output_type": "stream",
     "text": [
      "/usr/local/lib/python3.7/dist-packages/sklearn/linear_model/_logistic.py:940: ConvergenceWarning: lbfgs failed to converge (status=1):\n",
      "STOP: TOTAL NO. of ITERATIONS REACHED LIMIT.\n",
      "\n",
      "Increase the number of iterations (max_iter) or scale the data as shown in:\n",
      "    https://scikit-learn.org/stable/modules/preprocessing.html\n",
      "Please also refer to the documentation for alternative solver options:\n",
      "    https://scikit-learn.org/stable/modules/linear_model.html#logistic-regression\n",
      "  extra_warning_msg=_LOGISTIC_SOLVER_CONVERGENCE_MSG)\n"
     ]
    }
   ],
   "source": [
    "LogisticRModel = linear_model.LogisticRegression()\n",
    "LogisticRModel.fit(x_train_logistic,y_train_logistic)\n",
    "y_pred = LogisticRModel.predict(x_val_logistic)\n",
    "y_pred_test = LogisticRModel.predict(testX_reshaped)\n",
    "print(\"validation accuracy: \",metrics.accuracy_score(y_val_logistic, y_pred)*100)\n",
    "print(\"test accuracy: \",metrics.accuracy_score(testy, y_pred_test)*100)"
   ]
  },
  {
   "cell_type": "code",
   "execution_count": null,
   "metadata": {
    "colab": {
     "background_save": true
    },
    "id": "vA2fhruFsgjA"
   },
   "outputs": [],
   "source": [
    "# c) Spot Check Algorithms \n",
    "##ANN\n"
   ]
  },
  {
   "cell_type": "code",
   "execution_count": null,
   "metadata": {
    "colab": {
     "background_save": true
    },
    "id": "7Gpa5Mhzsmxa",
    "outputId": "675a932a-120f-4572-c716-785cf7568dbf"
   },
   "outputs": [
    {
     "name": "stdout",
     "output_type": "stream",
     "text": [
      "Model: \"sequential\"\n",
      "_________________________________________________________________\n",
      "Layer (type)                 Output Shape              Param #   \n",
      "=================================================================\n",
      "hiddenlayer1 (Dense)         (None, 784)               615440    \n",
      "_________________________________________________________________\n",
      "hiddenlayer2 (Dense)         (None, 128)               100480    \n",
      "_________________________________________________________________\n",
      "output_layer (Dense)         (None, 10)                1290      \n",
      "=================================================================\n",
      "Total params: 717,210\n",
      "Trainable params: 717,210\n",
      "Non-trainable params: 0\n",
      "_________________________________________________________________\n",
      "Epoch 1/5\n",
      "188/188 [==============================] - 17s 22ms/step - loss: 13.9450 - accuracy: 0.6695 - val_loss: 0.5313 - val_accuracy: 0.8631\n",
      "Epoch 2/5\n",
      "188/188 [==============================] - 4s 20ms/step - loss: 0.4239 - accuracy: 0.8908 - val_loss: 0.3425 - val_accuracy: 0.9190\n",
      "Epoch 3/5\n",
      "188/188 [==============================] - 4s 20ms/step - loss: 0.2532 - accuracy: 0.9313 - val_loss: 0.2834 - val_accuracy: 0.9315\n",
      "Epoch 4/5\n",
      "188/188 [==============================] - 4s 20ms/step - loss: 0.1753 - accuracy: 0.9481 - val_loss: 0.2717 - val_accuracy: 0.9393\n",
      "Epoch 5/5\n",
      "188/188 [==============================] - 4s 20ms/step - loss: 0.1441 - accuracy: 0.9580 - val_loss: 0.2748 - val_accuracy: 0.9469\n"
     ]
    }
   ],
   "source": [
    "batch_size = 256\n",
    "epochs = 5\n",
    "loss = 'sparse_categorical_crossentropy'\n",
    "metrics1 = \"accuracy\"\n",
    "model = Sequential()\n",
    "model.add(Dense(784,activation='relu', input_shape = (trainX_reshaped.shape[1],), name= 'hiddenlayer1'))\n",
    "model.add(Dense(128,activation='relu', name= 'hiddenlayer2'))\n",
    "model.add(Dense(10,activation='softmax', name= 'output_layer'))\n",
    "model.summary()\n",
    "model.compile(loss = loss, optimizer=Adam(), metrics =[metrics1])\n",
    "\n",
    "fitted = model.fit(trainX_reshaped, trainy, batch_size= batch_size, epochs=epochs, validation_split=validation_split, verbose=1)\n"
   ]
  },
  {
   "cell_type": "code",
   "execution_count": null,
   "metadata": {
    "colab": {
     "background_save": true
    },
    "id": "6njEkHScgATq",
    "outputId": "5c6db52b-1b00-4fc1-9dad-50955ec286b2"
   },
   "outputs": [
    {
     "name": "stdout",
     "output_type": "stream",
     "text": [
      "Test loss: 0.28933\n",
      "Test accuracy: 0.9458\n"
     ]
    }
   ],
   "source": [
    "prevloss, prevAccuracy  = model.evaluate(testX_reshaped, testy, verbose=False)\n",
    "\n",
    "print(f'Test loss: {prevloss:.5}')\n",
    "print(f'Test accuracy: {prevAccuracy:.5}')"
   ]
  },
  {
   "cell_type": "code",
   "execution_count": null,
   "metadata": {
    "colab": {
     "background_save": true
    },
    "id": "8QB_BFsFvIEJ"
   },
   "outputs": [],
   "source": [
    "# c) Spot Check Algorithms \n",
    "##CNN\n",
    "import tensorflow as tf\n",
    "from tensorflow.keras.preprocessing.image import ImageDataGenerator\n",
    "from tensorflow.keras import optimizers\n",
    "from tensorflow.keras.models import Sequential\n",
    "from tensorflow.keras.layers import Dense, Convolution2D, MaxPool2D, Dropout, Flatten, Activation\n",
    "from tensorflow.keras.callbacks import EarlyStopping, ModelCheckpoint\n",
    "\n",
    "from tensorflow.keras import datasets, layers, models"
   ]
  },
  {
   "cell_type": "code",
   "execution_count": null,
   "metadata": {
    "colab": {
     "background_save": true
    },
    "id": "sd3DMudlv7eq",
    "outputId": "062e2d40-61df-4071-82d2-628b196d1a27"
   },
   "outputs": [
    {
     "name": "stdout",
     "output_type": "stream",
     "text": [
      "Model: \"sequential_1\"\n",
      "_________________________________________________________________\n",
      "Layer (type)                 Output Shape              Param #   \n",
      "=================================================================\n",
      "conv2d (Conv2D)              (None, 26, 26, 28)        280       \n",
      "_________________________________________________________________\n",
      "max_pooling2d (MaxPooling2D) (None, 13, 13, 28)        0         \n",
      "_________________________________________________________________\n",
      "conv2d_1 (Conv2D)            (None, 11, 11, 64)        16192     \n",
      "_________________________________________________________________\n",
      "max_pooling2d_1 (MaxPooling2 (None, 5, 5, 64)          0         \n",
      "_________________________________________________________________\n",
      "flatten (Flatten)            (None, 1600)              0         \n",
      "_________________________________________________________________\n",
      "dense (Dense)                (None, 10)                16010     \n",
      "=================================================================\n",
      "Total params: 32,482\n",
      "Trainable params: 32,482\n",
      "Non-trainable params: 0\n",
      "_________________________________________________________________\n"
     ]
    }
   ],
   "source": [
    "model = models.Sequential()\n",
    "model.add(layers.Conv2D(28, (3, 3), activation='relu', input_shape=(28, 28, 1)))\n",
    "model.add(layers.MaxPooling2D((2, 2)))\n",
    "model.add(layers.Conv2D(64, (3, 3), activation='relu'))\n",
    "model.add(layers.MaxPooling2D((2, 2)))\n",
    "model.add(layers.Flatten())\n",
    "model.add(layers.Dense(10, activation= \"softmax\"))\n",
    "model.summary()"
   ]
  },
  {
   "cell_type": "code",
   "execution_count": null,
   "metadata": {
    "colab": {
     "background_save": true
    },
    "id": "K7cTm55P5swk",
    "outputId": "1617ca0f-ca34-4c87-e480-9b68fcee705b"
   },
   "outputs": [
    {
     "name": "stdout",
     "output_type": "stream",
     "text": [
      "Epoch 1/5\n"
     ]
    },
    {
     "name": "stderr",
     "output_type": "stream",
     "text": [
      "/usr/local/lib/python3.7/dist-packages/tensorflow/python/keras/backend.py:4930: UserWarning: \"`sparse_categorical_crossentropy` received `from_logits=True`, but the `output` argument was produced by a sigmoid or softmax activation and thus does not represent logits. Was this intended?\"\n",
      "  '\"`sparse_categorical_crossentropy` received `from_logits=True`, but '\n"
     ]
    },
    {
     "name": "stdout",
     "output_type": "stream",
     "text": [
      "1688/1688 [==============================] - 41s 24ms/step - loss: 0.4166 - accuracy: 0.9394 - val_loss: 0.1291 - val_accuracy: 0.9677\n",
      "Epoch 2/5\n",
      "1688/1688 [==============================] - 41s 24ms/step - loss: 0.0767 - accuracy: 0.9775 - val_loss: 0.0863 - val_accuracy: 0.9733\n",
      "Epoch 3/5\n",
      "1688/1688 [==============================] - 40s 24ms/step - loss: 0.0581 - accuracy: 0.9827 - val_loss: 0.0935 - val_accuracy: 0.9733\n",
      "Epoch 4/5\n",
      "1688/1688 [==============================] - 41s 24ms/step - loss: 0.0493 - accuracy: 0.9851 - val_loss: 0.0747 - val_accuracy: 0.9807\n",
      "Epoch 5/5\n",
      "1688/1688 [==============================] - 40s 24ms/step - loss: 0.0414 - accuracy: 0.9872 - val_loss: 0.0778 - val_accuracy: 0.9830\n"
     ]
    }
   ],
   "source": [
    "x_train = x_train_cnn.reshape(-1, 28, 28, 1)\n",
    "x_test = testX.reshape(-1,28,28,1)\n",
    "x_val = x_val_cnn.reshape(-1,28,28,1)\n",
    "model.compile(optimizer='adam',\n",
    "              loss=tf.keras.losses.SparseCategoricalCrossentropy(from_logits=True),\n",
    "              metrics=['accuracy'])\n",
    "\n",
    "history = model.fit(x_train,y_train_cnn, epochs=5, \n",
    "                    validation_data=(x_val, y_val_cnn))"
   ]
  },
  {
   "cell_type": "code",
   "execution_count": null,
   "metadata": {
    "colab": {
     "background_save": true
    },
    "id": "DPnJWWQS9VxG",
    "outputId": "9ec15866-3874-46f4-dcee-e4df3d62dd7c"
   },
   "outputs": [
    {
     "name": "stdout",
     "output_type": "stream",
     "text": [
      "313/313 [==============================] - 2s 7ms/step - loss: 0.0556 - accuracy: 0.9855\n"
     ]
    }
   ],
   "source": [
    "test_loss, test_acc = model.evaluate(x_test,  testy, verbose=1)"
   ]
  },
  {
   "cell_type": "code",
   "execution_count": null,
   "metadata": {
    "colab": {
     "background_save": true
    },
    "id": "6mm4YXPwvEgD",
    "outputId": "32ba62ee-5fd6-46b0-f3d6-42a0e57e8627"
   },
   "outputs": [
    {
     "name": "stdout",
     "output_type": "stream",
     "text": [
      "Simple Logistic regression has  92.03333333333333  accuracy. \n",
      "Simple Artificial Neural Network has  0.9469166398048401  accuracy. \n",
      "Simple Convolutional Neural Network has  0.9854999780654907  accuracy.\n",
      "Simple Logistic regression has  0.9216  test accuracy. \n",
      "Simple Artificial Neural Network has  0.9458000063896179  test accuracy. \n",
      "Simple Convolutional Neural Network has  0.9854999780654907  test accuracy.\n"
     ]
    }
   ],
   "source": [
    "# d) Compare Algorithms\n",
    "print(\"Simple Logistic regression has \",metrics.accuracy_score(y_val_logistic, y_pred)*100\n",
    ", \" accuracy. \\nSimple Artificial Neural Network has \",fitted.history.get(\"val_accuracy\")[-1],\" accuracy.\"\n",
    ", \"\\nSimple Convolutional Neural Network has \",test_acc,\" accuracy.\"\n",
    ")\n",
    "\n",
    "\n",
    "print(\"Simple Logistic regression has \",metrics.accuracy_score(testy, y_pred_test)\n",
    ", \" test accuracy. \\nSimple Artificial Neural Network has \",prevAccuracy,\" test accuracy.\"\n",
    ", \"\\nSimple Convolutional Neural Network has \",test_acc,\" test accuracy.\"\n",
    ")"
   ]
  },
  {
   "cell_type": "code",
   "execution_count": null,
   "metadata": {
    "colab": {
     "background_save": true
    },
    "id": "E9dtsdF1Mcnu"
   },
   "outputs": [],
   "source": [
    "# 5. Improve Accuracy \n",
    "# a) Algorithm Tuning \n",
    "#ANN\n",
    "\n",
    "#parameters\n",
    "es_patience = 10\n",
    "validation_split = 0.2\n",
    "batch_size = 128\n",
    "epochs = 100\n",
    "loss = 'sparse_categorical_crossentropy'\n",
    "metrics1 = \"accuracy\"\n"
   ]
  },
  {
   "cell_type": "code",
   "execution_count": null,
   "metadata": {
    "colab": {
     "background_save": true
    },
    "id": "cHpQQY3SMchq"
   },
   "outputs": [],
   "source": [
    "# def getModel():\n",
    "#   es = EarlyStopping(monitor = 'val_loss', mode = 'min', verbose = 1, restore_best_weights = True, patience = es_patience)\n",
    "#   model = Sequential()\n",
    "#   model.add(Dense(128,activation='relu', input_shape = (trainX_reshaped.shape[1],), name= 'hiddenlayer1'))\n",
    "#   #model.add(Dropout(dropout_rate))\n",
    "#   model.add(Dense(256,activation='relu', name= 'hiddenlayer2'))\n",
    "#   model.add(Dense(512,activation='relu', name= 'hiddenlayer3'))\n",
    "#   model.add(Dense(1024,activation='relu', name= 'hiddenlayer4'))\n",
    "#   model.add(Dense(10,activation='softmax', name= 'output_layer'))\n",
    "#   model.summary()\n",
    "#   model.compile(loss = loss, optimizer=Adam(), metrics =[metrics1])\n",
    "#   return model\n",
    "\n",
    "\n",
    "# # define the grid search parameters\n",
    "# batch_size = [16, 32, 64, 128, 256, 512]\n",
    "# epochs = [10, 50, 100]\n",
    "# val = [0.2]\n",
    "# call = [[es]]\n",
    "\n",
    "# Kmodel = KerasClassifier(build_fn=getModel, verbose=1)\n",
    "# param_grid = dict(batch_size=batch_size, epochs=epochs,validation_split=val,callbacks = call)\n",
    "# grid = GridSearchCV(estimator=Kmodel, param_grid=param_grid, n_jobs=-1, cv=3,scoring=make_scorer(accuracy_score))\n",
    "\n",
    "# grid_result = grid.fit(trainX_reshaped, trainy)\n",
    "\n",
    "# # summarize results\n",
    "# print(\"Best: %f using %s\" % (grid_result.best_score_, grid_result.best_params_))\n",
    "# means = grid_result.cv_results_['mean_test_score']\n",
    "# stds = grid_result.cv_results_['std_test_score']\n",
    "# params = grid_result.cv_results_['params']\n",
    "# for mean, stdev, param in zip(means, stds, params):\n",
    "#     print(\"%f (%f) with: %r\" % (mean, stdev, param))\n",
    "\n"
   ]
  },
  {
   "cell_type": "code",
   "execution_count": null,
   "metadata": {
    "colab": {
     "background_save": true
    },
    "id": "tpMx2JA5O0S1",
    "outputId": "26735c6e-a3fc-45f2-8e52-f7ac057ac653"
   },
   "outputs": [
    {
     "name": "stdout",
     "output_type": "stream",
     "text": [
      "Model: \"sequential_2\"\n",
      "_________________________________________________________________\n",
      "Layer (type)                 Output Shape              Param #   \n",
      "=================================================================\n",
      "hiddenlayer1 (Dense)         (None, 128)               100480    \n",
      "_________________________________________________________________\n",
      "dropout_3 (Dropout)          (None, 128)               0         \n",
      "_________________________________________________________________\n",
      "hiddenlayer2 (Dense)         (None, 256)               33024     \n",
      "_________________________________________________________________\n",
      "dropout_4 (Dropout)          (None, 256)               0         \n",
      "_________________________________________________________________\n",
      "hiddenlayer3 (Dense)         (None, 512)               131584    \n",
      "_________________________________________________________________\n",
      "dropout_5 (Dropout)          (None, 512)               0         \n",
      "_________________________________________________________________\n",
      "hiddenlayer4 (Dense)         (None, 1024)              525312    \n",
      "_________________________________________________________________\n",
      "output_layer (Dense)         (None, 10)                10250     \n",
      "=================================================================\n",
      "Total params: 800,650\n",
      "Trainable params: 800,650\n",
      "Non-trainable params: 0\n",
      "_________________________________________________________________\n",
      "Epoch 1/100\n",
      "375/375 [==============================] - 8s 21ms/step - loss: 1.7408 - accuracy: 0.7305 - val_loss: 0.2960 - val_accuracy: 0.9144\n",
      "Epoch 2/100\n",
      "375/375 [==============================] - 8s 20ms/step - loss: 0.4150 - accuracy: 0.8795 - val_loss: 0.2296 - val_accuracy: 0.9349\n",
      "Epoch 3/100\n",
      "375/375 [==============================] - 8s 20ms/step - loss: 0.3267 - accuracy: 0.9068 - val_loss: 0.1959 - val_accuracy: 0.9452\n",
      "Epoch 4/100\n",
      "375/375 [==============================] - 8s 20ms/step - loss: 0.2661 - accuracy: 0.9236 - val_loss: 0.1651 - val_accuracy: 0.9538\n",
      "Epoch 5/100\n",
      "375/375 [==============================] - 8s 20ms/step - loss: 0.2327 - accuracy: 0.9323 - val_loss: 0.1507 - val_accuracy: 0.9573\n",
      "Epoch 6/100\n",
      "375/375 [==============================] - 8s 20ms/step - loss: 0.2032 - accuracy: 0.9402 - val_loss: 0.1511 - val_accuracy: 0.9566\n",
      "Epoch 7/100\n",
      "375/375 [==============================] - 8s 20ms/step - loss: 0.1854 - accuracy: 0.9459 - val_loss: 0.1393 - val_accuracy: 0.9592\n",
      "Epoch 8/100\n",
      "375/375 [==============================] - 8s 20ms/step - loss: 0.1653 - accuracy: 0.9520 - val_loss: 0.1286 - val_accuracy: 0.9642\n",
      "Epoch 9/100\n",
      "375/375 [==============================] - 8s 21ms/step - loss: 0.1594 - accuracy: 0.9542 - val_loss: 0.1294 - val_accuracy: 0.9644\n",
      "Epoch 10/100\n",
      "375/375 [==============================] - 8s 21ms/step - loss: 0.1518 - accuracy: 0.9565 - val_loss: 0.1307 - val_accuracy: 0.9644\n",
      "Epoch 11/100\n",
      "375/375 [==============================] - 8s 21ms/step - loss: 0.1374 - accuracy: 0.9601 - val_loss: 0.1270 - val_accuracy: 0.9637\n",
      "Epoch 12/100\n",
      "375/375 [==============================] - 8s 21ms/step - loss: 0.1349 - accuracy: 0.9615 - val_loss: 0.1252 - val_accuracy: 0.9653\n",
      "Epoch 13/100\n",
      "375/375 [==============================] - 8s 20ms/step - loss: 0.1347 - accuracy: 0.9617 - val_loss: 0.1257 - val_accuracy: 0.9663\n",
      "Epoch 14/100\n",
      "375/375 [==============================] - 8s 20ms/step - loss: 0.1292 - accuracy: 0.9639 - val_loss: 0.1183 - val_accuracy: 0.9689\n",
      "Epoch 15/100\n",
      "375/375 [==============================] - 8s 21ms/step - loss: 0.1227 - accuracy: 0.9660 - val_loss: 0.1182 - val_accuracy: 0.9694\n",
      "Epoch 16/100\n",
      "375/375 [==============================] - 8s 21ms/step - loss: 0.1251 - accuracy: 0.9644 - val_loss: 0.1269 - val_accuracy: 0.9682\n",
      "Epoch 17/100\n",
      "375/375 [==============================] - 8s 20ms/step - loss: 0.1168 - accuracy: 0.9673 - val_loss: 0.1249 - val_accuracy: 0.9682\n",
      "Epoch 18/100\n",
      "375/375 [==============================] - 8s 21ms/step - loss: 0.1083 - accuracy: 0.9700 - val_loss: 0.1174 - val_accuracy: 0.9710\n",
      "Epoch 19/100\n",
      "375/375 [==============================] - 8s 20ms/step - loss: 0.1105 - accuracy: 0.9695 - val_loss: 0.1108 - val_accuracy: 0.9722\n",
      "Epoch 20/100\n",
      "375/375 [==============================] - 8s 20ms/step - loss: 0.1046 - accuracy: 0.9712 - val_loss: 0.1178 - val_accuracy: 0.9700\n",
      "Epoch 21/100\n",
      "375/375 [==============================] - 8s 20ms/step - loss: 0.0993 - accuracy: 0.9730 - val_loss: 0.1285 - val_accuracy: 0.9703\n",
      "Epoch 22/100\n",
      "375/375 [==============================] - 8s 21ms/step - loss: 0.0951 - accuracy: 0.9730 - val_loss: 0.1080 - val_accuracy: 0.9728\n",
      "Epoch 23/100\n",
      "375/375 [==============================] - 8s 21ms/step - loss: 0.0905 - accuracy: 0.9751 - val_loss: 0.1156 - val_accuracy: 0.9719\n",
      "Epoch 24/100\n",
      "375/375 [==============================] - 8s 21ms/step - loss: 0.0944 - accuracy: 0.9745 - val_loss: 0.1145 - val_accuracy: 0.9707\n",
      "Epoch 25/100\n",
      "375/375 [==============================] - 8s 21ms/step - loss: 0.0984 - accuracy: 0.9740 - val_loss: 0.1254 - val_accuracy: 0.9724\n",
      "Epoch 26/100\n",
      "375/375 [==============================] - 8s 21ms/step - loss: 0.0938 - accuracy: 0.9741 - val_loss: 0.1160 - val_accuracy: 0.9720\n",
      "Epoch 27/100\n",
      "375/375 [==============================] - 8s 21ms/step - loss: 0.0897 - accuracy: 0.9761 - val_loss: 0.1120 - val_accuracy: 0.9744\n",
      "Epoch 28/100\n",
      "375/375 [==============================] - 8s 21ms/step - loss: 0.0856 - accuracy: 0.9780 - val_loss: 0.1126 - val_accuracy: 0.9737\n",
      "Epoch 29/100\n",
      "375/375 [==============================] - 8s 21ms/step - loss: 0.0895 - accuracy: 0.9748 - val_loss: 0.1046 - val_accuracy: 0.9757\n",
      "Epoch 30/100\n",
      "375/375 [==============================] - 8s 21ms/step - loss: 0.0876 - accuracy: 0.9771 - val_loss: 0.1024 - val_accuracy: 0.9735\n",
      "Epoch 31/100\n",
      "375/375 [==============================] - 8s 21ms/step - loss: 0.0825 - accuracy: 0.9779 - val_loss: 0.1085 - val_accuracy: 0.9742\n",
      "Epoch 32/100\n",
      "375/375 [==============================] - 8s 21ms/step - loss: 0.0792 - accuracy: 0.9786 - val_loss: 0.1170 - val_accuracy: 0.9732\n",
      "Epoch 33/100\n",
      "375/375 [==============================] - 8s 21ms/step - loss: 0.0768 - accuracy: 0.9794 - val_loss: 0.1104 - val_accuracy: 0.9751\n",
      "Epoch 34/100\n",
      "375/375 [==============================] - 8s 21ms/step - loss: 0.0744 - accuracy: 0.9796 - val_loss: 0.1104 - val_accuracy: 0.9744\n",
      "Epoch 35/100\n",
      "375/375 [==============================] - 8s 21ms/step - loss: 0.0804 - accuracy: 0.9789 - val_loss: 0.1050 - val_accuracy: 0.9757\n",
      "Epoch 36/100\n",
      "375/375 [==============================] - 8s 21ms/step - loss: 0.0740 - accuracy: 0.9798 - val_loss: 0.1207 - val_accuracy: 0.9736\n",
      "Epoch 37/100\n",
      "375/375 [==============================] - 8s 21ms/step - loss: 0.0702 - accuracy: 0.9814 - val_loss: 0.1135 - val_accuracy: 0.9755\n",
      "Epoch 38/100\n",
      "375/375 [==============================] - 8s 21ms/step - loss: 0.0674 - accuracy: 0.9820 - val_loss: 0.1224 - val_accuracy: 0.9742\n",
      "Epoch 39/100\n",
      "375/375 [==============================] - 8s 21ms/step - loss: 0.0741 - accuracy: 0.9806 - val_loss: 0.1377 - val_accuracy: 0.9717\n",
      "Epoch 40/100\n",
      "375/375 [==============================] - 8s 21ms/step - loss: 0.0708 - accuracy: 0.9817 - val_loss: 0.1168 - val_accuracy: 0.9747\n",
      "Restoring model weights from the end of the best epoch.\n",
      "Epoch 00040: early stopping\n"
     ]
    }
   ],
   "source": [
    "es = EarlyStopping(monitor = 'val_loss', mode = 'min', verbose = 1, restore_best_weights = True, patience = es_patience)\n",
    "model = Sequential()\n",
    "model.add(Dense(128,activation='relu', input_shape = (trainX_reshaped.shape[1],), name= 'hiddenlayer1'))\n",
    "model.add(Dropout(0.2))\n",
    "model.add(Dense(256,activation='relu', name= 'hiddenlayer2'))\n",
    "model.add(Dropout(0.2))\n",
    "model.add(Dense(512,activation='relu', name= 'hiddenlayer3'))\n",
    "model.add(Dropout(0.2))\n",
    "model.add(Dense(1024,activation='relu', name= 'hiddenlayer4'))\n",
    "model.add(Dense(10,activation='softmax', name= 'output_layer'))\n",
    "model.summary()\n",
    "model.compile(loss = loss, optimizer=Adam(), metrics =[metrics1])\n",
    "fitted = model.fit(trainX_reshaped, trainy, batch_size= batch_size, epochs=epochs, validation_split=validation_split, verbose=1,callbacks=es)\n"
   ]
  },
  {
   "cell_type": "code",
   "execution_count": null,
   "metadata": {
    "colab": {
     "background_save": true
    },
    "id": "LOu3VDXZWxYi",
    "outputId": "0da70be5-da82-457b-ab45-d5d44562240f"
   },
   "outputs": [
    {
     "name": "stdout",
     "output_type": "stream",
     "text": [
      "Test loss: 0.11508\n",
      "Test accuracy: 0.9723\n",
      "previous accuracy was: 0.9458:\n"
     ]
    }
   ],
   "source": [
    "loss, accuracy  = model.evaluate(testX_reshaped, testy, verbose=False)\n",
    "\n",
    "print(f'Test loss: {loss:.5}')\n",
    "print(f'Test accuracy: {accuracy:.5}')\n",
    "print(f'previous accuracy was: {prevAccuracy:.5}:')"
   ]
  },
  {
   "cell_type": "code",
   "execution_count": null,
   "metadata": {
    "colab": {
     "background_save": true
    },
    "id": "bxkEHhD-ZIp9",
    "outputId": "25e5d8e6-e2ff-4d65-a606-816ed5601666"
   },
   "outputs": [
    {
     "name": "stdout",
     "output_type": "stream",
     "text": [
      "Model: \"sequential_3\"\n",
      "_________________________________________________________________\n",
      "Layer (type)                 Output Shape              Param #   \n",
      "=================================================================\n",
      "hiddenlayer1 (Dense)         (None, 784)               615440    \n",
      "_________________________________________________________________\n",
      "dropout_6 (Dropout)          (None, 784)               0         \n",
      "_________________________________________________________________\n",
      "hiddenlayer2 (Dense)         (None, 256)               200960    \n",
      "_________________________________________________________________\n",
      "dropout_7 (Dropout)          (None, 256)               0         \n",
      "_________________________________________________________________\n",
      "hiddenlayer3 (Dense)         (None, 256)               65792     \n",
      "_________________________________________________________________\n",
      "dropout_8 (Dropout)          (None, 256)               0         \n",
      "_________________________________________________________________\n",
      "output_layer (Dense)         (None, 10)                2570      \n",
      "=================================================================\n",
      "Total params: 884,762\n",
      "Trainable params: 884,762\n",
      "Non-trainable params: 0\n",
      "_________________________________________________________________\n",
      "Epoch 1/100\n",
      "375/375 [==============================] - 7s 17ms/step - loss: 2.4231 - accuracy: 0.7478 - val_loss: 0.3563 - val_accuracy: 0.9135\n",
      "Epoch 2/100\n",
      "375/375 [==============================] - 6s 17ms/step - loss: 0.5553 - accuracy: 0.8668 - val_loss: 0.2538 - val_accuracy: 0.9327\n",
      "Epoch 3/100\n",
      "375/375 [==============================] - 6s 17ms/step - loss: 0.3877 - accuracy: 0.9051 - val_loss: 0.2181 - val_accuracy: 0.9430\n",
      "Epoch 4/100\n",
      "375/375 [==============================] - 6s 17ms/step - loss: 0.3068 - accuracy: 0.9237 - val_loss: 0.1765 - val_accuracy: 0.9556\n",
      "Epoch 5/100\n",
      "375/375 [==============================] - 6s 17ms/step - loss: 0.2482 - accuracy: 0.9380 - val_loss: 0.1676 - val_accuracy: 0.9603\n",
      "Epoch 6/100\n",
      "375/375 [==============================] - 6s 17ms/step - loss: 0.2132 - accuracy: 0.9463 - val_loss: 0.1493 - val_accuracy: 0.9621\n",
      "Epoch 7/100\n",
      "375/375 [==============================] - 6s 17ms/step - loss: 0.1783 - accuracy: 0.9550 - val_loss: 0.1359 - val_accuracy: 0.9665\n",
      "Epoch 8/100\n",
      "375/375 [==============================] - 6s 17ms/step - loss: 0.1676 - accuracy: 0.9563 - val_loss: 0.1338 - val_accuracy: 0.9691\n",
      "Epoch 9/100\n",
      "375/375 [==============================] - 7s 17ms/step - loss: 0.1482 - accuracy: 0.9615 - val_loss: 0.1240 - val_accuracy: 0.9689\n",
      "Epoch 10/100\n",
      "375/375 [==============================] - 7s 17ms/step - loss: 0.1388 - accuracy: 0.9642 - val_loss: 0.1155 - val_accuracy: 0.9701\n",
      "Epoch 11/100\n",
      "375/375 [==============================] - 7s 18ms/step - loss: 0.1276 - accuracy: 0.9656 - val_loss: 0.1300 - val_accuracy: 0.9688\n",
      "Epoch 12/100\n",
      "375/375 [==============================] - 6s 17ms/step - loss: 0.1155 - accuracy: 0.9695 - val_loss: 0.1078 - val_accuracy: 0.9705\n",
      "Epoch 13/100\n",
      "375/375 [==============================] - 7s 18ms/step - loss: 0.1047 - accuracy: 0.9719 - val_loss: 0.1120 - val_accuracy: 0.9704\n",
      "Epoch 14/100\n",
      "375/375 [==============================] - 6s 17ms/step - loss: 0.0977 - accuracy: 0.9733 - val_loss: 0.1049 - val_accuracy: 0.9728\n",
      "Epoch 15/100\n",
      "375/375 [==============================] - 6s 17ms/step - loss: 0.0924 - accuracy: 0.9752 - val_loss: 0.1183 - val_accuracy: 0.9693\n",
      "Epoch 16/100\n",
      "375/375 [==============================] - 6s 17ms/step - loss: 0.0987 - accuracy: 0.9743 - val_loss: 0.1102 - val_accuracy: 0.9728\n",
      "Epoch 17/100\n",
      "375/375 [==============================] - 6s 17ms/step - loss: 0.0911 - accuracy: 0.9766 - val_loss: 0.1144 - val_accuracy: 0.9728\n",
      "Epoch 18/100\n",
      "375/375 [==============================] - 6s 17ms/step - loss: 0.0848 - accuracy: 0.9777 - val_loss: 0.1069 - val_accuracy: 0.9755\n",
      "Epoch 19/100\n",
      "375/375 [==============================] - 6s 17ms/step - loss: 0.0844 - accuracy: 0.9780 - val_loss: 0.1048 - val_accuracy: 0.9754\n",
      "Epoch 20/100\n",
      "375/375 [==============================] - 6s 17ms/step - loss: 0.0824 - accuracy: 0.9785 - val_loss: 0.1105 - val_accuracy: 0.9758\n",
      "Epoch 21/100\n",
      "375/375 [==============================] - 6s 17ms/step - loss: 0.0883 - accuracy: 0.9777 - val_loss: 0.1161 - val_accuracy: 0.9737\n",
      "Epoch 22/100\n",
      "375/375 [==============================] - 6s 17ms/step - loss: 0.0813 - accuracy: 0.9795 - val_loss: 0.1056 - val_accuracy: 0.9743\n",
      "Epoch 23/100\n",
      "375/375 [==============================] - 6s 17ms/step - loss: 0.0751 - accuracy: 0.9800 - val_loss: 0.1107 - val_accuracy: 0.9750\n",
      "Epoch 24/100\n",
      "375/375 [==============================] - 6s 17ms/step - loss: 0.0725 - accuracy: 0.9820 - val_loss: 0.1256 - val_accuracy: 0.9742\n",
      "Epoch 25/100\n",
      "375/375 [==============================] - 6s 17ms/step - loss: 0.0773 - accuracy: 0.9803 - val_loss: 0.1176 - val_accuracy: 0.9764\n",
      "Epoch 26/100\n",
      "375/375 [==============================] - 7s 17ms/step - loss: 0.0711 - accuracy: 0.9826 - val_loss: 0.1145 - val_accuracy: 0.9762\n",
      "Epoch 27/100\n",
      "375/375 [==============================] - 6s 17ms/step - loss: 0.0857 - accuracy: 0.9789 - val_loss: 0.1306 - val_accuracy: 0.9764\n",
      "Epoch 28/100\n",
      "375/375 [==============================] - 6s 17ms/step - loss: 0.0686 - accuracy: 0.9833 - val_loss: 0.1178 - val_accuracy: 0.9755\n",
      "Epoch 29/100\n",
      "375/375 [==============================] - 7s 18ms/step - loss: 0.0651 - accuracy: 0.9836 - val_loss: 0.1327 - val_accuracy: 0.9735\n",
      "Restoring model weights from the end of the best epoch.\n",
      "Epoch 00029: early stopping\n"
     ]
    }
   ],
   "source": [
    "loss = 'sparse_categorical_crossentropy'\n",
    "es = EarlyStopping(monitor = 'val_loss', mode = 'min', verbose = 1, restore_best_weights = True, patience = es_patience)\n",
    "model = Sequential()\n",
    "model.add(Dense(trainX_reshaped.shape[1],activation='relu', input_shape = (trainX_reshaped.shape[1],), name= 'hiddenlayer1'))\n",
    "model.add(Dropout(0.2))\n",
    "model.add(Dense(256,activation='relu', name= 'hiddenlayer2'))\n",
    "model.add(Dropout(0.2))\n",
    "model.add(Dense(256,activation='relu', name= 'hiddenlayer3'))\n",
    "model.add(Dropout(0.2))\n",
    "model.add(Dense(10,activation='softmax', name= 'output_layer'))\n",
    "model.summary()\n",
    "model.compile(loss = loss, optimizer=Adam(), metrics =[metrics1])\n",
    "fitted = model.fit(trainX_reshaped, trainy, batch_size= batch_size, epochs=epochs, validation_split=validation_split, verbose=1,callbacks=es)"
   ]
  },
  {
   "cell_type": "code",
   "execution_count": null,
   "metadata": {
    "id": "AHI1hQK_Uk6l"
   },
   "outputs": [],
   "source": [
    "loss, accuracy  = model.evaluate(testX_reshaped, testy, verbose=False)\n",
    "\n",
    "print(f'Test loss: {loss:.5}')\n",
    "print(f'Test accuracy: {accuracy:.5}')"
   ]
  }
 ],
 "metadata": {
  "colab": {
   "collapsed_sections": [],
   "name": "mnist2.ipynb",
   "provenance": []
  },
  "kernelspec": {
   "display_name": "Python 3",
   "language": "python",
   "name": "python3"
  },
  "language_info": {
   "codemirror_mode": {
    "name": "ipython",
    "version": 3
   },
   "file_extension": ".py",
   "mimetype": "text/x-python",
   "name": "python",
   "nbconvert_exporter": "python",
   "pygments_lexer": "ipython3",
   "version": "3.8.8"
  }
 },
 "nbformat": 4,
 "nbformat_minor": 1
}
