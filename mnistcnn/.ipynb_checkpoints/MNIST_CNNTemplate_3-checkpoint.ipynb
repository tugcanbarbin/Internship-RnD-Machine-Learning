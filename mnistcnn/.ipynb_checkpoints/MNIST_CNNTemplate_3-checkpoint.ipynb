{
 "cells": [
  {
   "cell_type": "markdown",
   "metadata": {
    "id": "0aGzbPONfu34"
   },
   "source": [
    "# Çalışma 5\n",
    "\n",
    "## Bu projemizde büyük ve çok kullanılan bir dataset olan MNIST datasetini kullanacağız. MNIST datasetindeki görsellerin hangi rakam olduğunu CNN- Convolutional neural network modelimizi kullanarak tahmin etmeye çalışacağız. CNN, yapısı olmayan (unstructured) dataları anlamak için özel bir ANN türüdür.\n",
    "\n",
    "# Bu projeye başlamadan önce Convolutional neural network machine learning modelini ve nasıl hyperparameter tuning yapıldığını, onların ne işe yaradığını araştırmalısınız."
   ]
  },
  {
   "cell_type": "code",
   "execution_count": null,
   "metadata": {
    "id": "EMwAQAslfuaN"
   },
   "outputs": [],
   "source": [
    "# Python Project Template\n",
    "# 1. Prepare Problem #\n",
    "# a) Load libraries\n",
    "# b) Load dataset\n",
    "\n",
    "# 2. Summarize Data \n",
    "# a) Descriptive statistics \n",
    "# b) Data visualizations\n",
    "\n",
    "# 3. Prepare Data \n",
    "# a) Data Cleaning \n",
    "# b) Feature Selection \n",
    "# c) Data Transforms\n",
    "\n",
    "# 4. Evaluate Algorithms \n",
    "# a) Split-out validation dataset \n",
    "# b) Test options and evaluation metric \n",
    "# c) Spot Check Algorithms "
   ]
  },
  {
   "cell_type": "markdown",
   "metadata": {
    "id": "a4ab9TUxguZg"
   },
   "source": [
    "# 1. Hazırlık #\n",
    "# a) Kütüphaneleri ekle"
   ]
  },
  {
   "cell_type": "code",
   "execution_count": null,
   "metadata": {
    "id": "Waq3heApfuWe"
   },
   "outputs": [],
   "source": [
    "from keras.datasets import mnist\n",
    "# a) diğer kütüphaneleri de ekle"
   ]
  },
  {
   "cell_type": "markdown",
   "metadata": {
    "id": "dAIAJZLBgxjN"
   },
   "source": [
    "# 2. Datayı özetle\n",
    "# a) İstatistiksel olarak datayı anlat, göster"
   ]
  },
  {
   "cell_type": "code",
   "execution_count": null,
   "metadata": {
    "id": "DZ4gxdhbfuT-"
   },
   "outputs": [],
   "source": []
  },
  {
   "cell_type": "markdown",
   "metadata": {
    "id": "cQhXsE9ug1Kz"
   },
   "source": [
    "# b) Datayı görselleştir"
   ]
  },
  {
   "cell_type": "code",
   "execution_count": null,
   "metadata": {
    "id": "GEifMEjVfuRp"
   },
   "outputs": [],
   "source": []
  },
  {
   "cell_type": "markdown",
   "metadata": {
    "id": "NNW88N8yg4af"
   },
   "source": [
    "# c) Data Dönüşümü\n",
    "\n",
    "\n",
    "#-Inputlarımızı 2 boyutlu (2D) array haline getir. \n",
    "\n",
    "#-daha küçük sayılarda çalışmak için datayı normalize et"
   ]
  },
  {
   "cell_type": "code",
   "execution_count": null,
   "metadata": {
    "id": "sZdohbOKg6TO"
   },
   "outputs": [],
   "source": []
  },
  {
   "cell_type": "markdown",
   "metadata": {
    "id": "9JVC9_zEg6sf"
   },
   "source": [
    "\n",
    "#-2D olan inputlarımızı 3 boyutlu hale getirmeliyiz çünkü cnn böyle kabul ediyor"
   ]
  },
  {
   "cell_type": "code",
   "execution_count": null,
   "metadata": {
    "id": "2bQbBy72fQcv"
   },
   "outputs": [],
   "source": [
    "'''\n",
    "x_train = x_train_cnn.reshape(-1, 28, 28, 1)\n",
    "x_test = testX.reshape(-1,28,28,1)\n",
    "x_val = x_val_cnn.reshape(-1,28,28,1)\n",
    "'''"
   ]
  },
  {
   "cell_type": "code",
   "execution_count": null,
   "metadata": {
    "id": "bpwJVFathNKz"
   },
   "outputs": [],
   "source": []
  },
  {
   "cell_type": "markdown",
   "metadata": {
    "id": "6bdqrrlfhN3h"
   },
   "source": [
    "#Convolutional Neural Network\n",
    "# c) Algoritmayı dene \n",
    "1- modeli oluştur\n",
    "\n",
    "2- modeli eğit, farklı hyperparameterler (farklı layer sayıları, farklı nöron sayıları, vb.) deneyerek modeli geliştirmeye çalış\n",
    "\n",
    "\n",
    "\n",
    "\n",
    "\n"
   ]
  },
  {
   "cell_type": "code",
   "execution_count": null,
   "metadata": {
    "id": "_EnrEsFKhdXZ"
   },
   "outputs": [],
   "source": []
  },
  {
   "cell_type": "code",
   "execution_count": null,
   "metadata": {
    "id": "LpIoPhoGhd07"
   },
   "outputs": [],
   "source": []
  },
  {
   "cell_type": "markdown",
   "metadata": {
    "id": "rG_XiNGShure"
   },
   "source": [
    "\n",
    "3- modeli test datasında test et ve accuracy i gözlemle"
   ]
  },
  {
   "cell_type": "code",
   "execution_count": null,
   "metadata": {
    "id": "BiQehhechu4W"
   },
   "outputs": [],
   "source": []
  }
 ],
 "metadata": {
  "colab": {
   "collapsed_sections": [],
   "name": "MNIST-CNNTemplate-3.ipynb",
   "provenance": []
  },
  "kernelspec": {
   "display_name": "Python 3",
   "language": "python",
   "name": "python3"
  },
  "language_info": {
   "codemirror_mode": {
    "name": "ipython",
    "version": 3
   },
   "file_extension": ".py",
   "mimetype": "text/x-python",
   "name": "python",
   "nbconvert_exporter": "python",
   "pygments_lexer": "ipython3",
   "version": "3.8.8"
  }
 },
 "nbformat": 4,
 "nbformat_minor": 1
}
