{
 "cells": [
  {
   "cell_type": "markdown",
   "metadata": {
    "id": "BvpBLpWSFLLV"
   },
   "source": [
    "## Çalışma 2\n",
    "\n",
    "## Bu çalışmada bize verilen verideki bilgileri kullanarak bir kişinin bir arabaya vereceği maksimum miktarı öngörmeye çalışıyoruz.\n",
    "\n",
    "\n",
    "Bu öngörme işlemini tamamlamak için bir machine learning algoritması olan Artificial Neural Network (ANN) kullanacağız.\n",
    "\n",
    "---\n",
    "## 1 ) Kütüphaneleri yükle (import)\n",
    "\n",
    "**Daha sonra ihtiyacın oldukça da yükleyebilirsin.\n"
   ]
  },
  {
   "cell_type": "code",
   "execution_count": null,
   "metadata": {
    "id": "b22lo378E7mW"
   },
   "outputs": [],
   "source": []
  },
  {
   "cell_type": "markdown",
   "metadata": {
    "id": "P5BjEBf0GWDi"
   },
   "source": [
    "##2 ) Veri setini aç, bu veri seti için encoding='ISO-8859-1' kullanmalısınız."
   ]
  },
  {
   "cell_type": "code",
   "execution_count": null,
   "metadata": {
    "id": "r7fTBpyfGc_m"
   },
   "outputs": [],
   "source": []
  },
  {
   "cell_type": "markdown",
   "metadata": {
    "id": "2cR616g4Gf0P"
   },
   "source": [
    "##3 ) Veri setini tanımaya çalış, içindekilere bak\n",
    "\n",
    "*Görselleştir\n",
    "\n",
    "\n"
   ]
  },
  {
   "cell_type": "code",
   "execution_count": null,
   "metadata": {
    "id": "XKrlZQe8GnYk"
   },
   "outputs": [],
   "source": []
  },
  {
   "cell_type": "code",
   "execution_count": null,
   "metadata": {
    "id": "Of8P_bF_GnzR"
   },
   "outputs": [],
   "source": []
  },
  {
   "cell_type": "markdown",
   "metadata": {
    "id": "NWCqo5E6G4mz"
   },
   "source": [
    "Sayısal olmayan, kategorisel olan datalardan ya kurtulmalıyız ya da onları sayısal değere çevirmeliyiz. O yüzden işine yarayacak kategorisel özellikleri seç ve sayısal değere çevir. Diğer kategorisel özellikleri veriden at.\n"
   ]
  },
  {
   "cell_type": "code",
   "execution_count": null,
   "metadata": {
    "id": "Wx2ZBNSRHRT9"
   },
   "outputs": [],
   "source": []
  },
  {
   "cell_type": "code",
   "execution_count": null,
   "metadata": {
    "id": "9IYtxWH_HTct"
   },
   "outputs": [],
   "source": []
  },
  {
   "cell_type": "markdown",
   "metadata": {
    "id": "TqwROZieHQo5"
   },
   "source": [
    "Machine learning algoritmaları, fazlasıyla matematiksel hesaplama yaptığı için yüksek miktardaki sayılar hesaplama performansını kötüleştirdiği gibi varyansı arttıracağı için modelimizin performansını da kötüleştirecektir. Modelimizin yaptığı tahminlerin varyansı da yüksek olacağı için sapma ihtimali artacaktır.\n",
    "\n",
    "Bu yüzden verisetimizdeki değerleri 0 ile 1 arasında olacak şekilde 'scaling' ve 'normalization' yapalım.\n",
    "\n",
    "\n"
   ]
  },
  {
   "cell_type": "code",
   "execution_count": null,
   "metadata": {
    "id": "m19-jCiyIEG_"
   },
   "outputs": [],
   "source": []
  },
  {
   "cell_type": "code",
   "execution_count": null,
   "metadata": {
    "id": "4FW11RtHIEh9"
   },
   "outputs": [],
   "source": []
  },
  {
   "cell_type": "markdown",
   "metadata": {
    "id": "4LF-HOIlIIwN"
   },
   "source": [
    "Verimizi train ve test olarak ikiye ayıralım\n",
    "\n",
    "Önerilen 0.8 - 0.2 ile 0.7 - 0.3 şeklinde ayırmaktır. Bu ayrım verinin büyüklüğüne göre değiştirilebilir. Eğer veri sayımız az ise train verisinin oranını daha yüksek tutmak mantıklı olacaktır.\n"
   ]
  },
  {
   "cell_type": "code",
   "execution_count": null,
   "metadata": {
    "id": "ja2OkPmTIhRC"
   },
   "outputs": [],
   "source": []
  },
  {
   "cell_type": "markdown",
   "metadata": {
    "id": "T4hg8F1DIoaT"
   },
   "source": [
    "## Modeli oluşturalım"
   ]
  },
  {
   "cell_type": "code",
   "execution_count": null,
   "metadata": {
    "id": "QIfeMxyQI0ro"
   },
   "outputs": [],
   "source": []
  },
  {
   "cell_type": "markdown",
   "metadata": {
    "id": "MLflgSH7I0Ug"
   },
   "source": [
    "## modelimizi 0.2 validation split yaparak eğitelim\n"
   ]
  },
  {
   "cell_type": "code",
   "execution_count": null,
   "metadata": {
    "id": "W1ZC2vBsI8ae"
   },
   "outputs": [],
   "source": []
  },
  {
   "cell_type": "markdown",
   "metadata": {
    "id": "xJiOHUz9JA_J"
   },
   "source": [
    "## eğitme geçmişini görselleştirelim.\n",
    "\n",
    "Böylece zamanla, her epochtaki tahminlerdeki sapma miktarımızı gözlemleyelim\n"
   ]
  },
  {
   "cell_type": "code",
   "execution_count": null,
   "metadata": {
    "id": "OrvNBiU3Jeek"
   },
   "outputs": [],
   "source": []
  },
  {
   "cell_type": "markdown",
   "metadata": {
    "id": "rSwVBKB2Je3D"
   },
   "source": [
    "## modelimizi test verimiz üzerinde deneyelim ve sonrasında gerçek değerlerle karşılaştırılacak şekilde görselleştirelim"
   ]
  },
  {
   "cell_type": "code",
   "execution_count": null,
   "metadata": {
    "id": "QtBxg6bYJw0Z"
   },
   "outputs": [],
   "source": []
  },
  {
   "cell_type": "markdown",
   "metadata": {
    "id": "bjUQNEGPJxKv"
   },
   "source": [
    "## kendimiz bir input yazarak modele verip tahmin etmesini isteyelim\n",
    "örneğin,\n",
    "\n",
    "Sırasıyla \n",
    "\n",
    "\n",
    "country,gender, age, annual salary, creditcard debt, networth    olacak şekilde\n",
    "\n",
    "\n",
    "x_takeinput= np.array([[160,1,50,50000,10000,60000]])"
   ]
  },
  {
   "cell_type": "code",
   "execution_count": null,
   "metadata": {
    "id": "iarX8vu_KIAV"
   },
   "outputs": [],
   "source": []
  },
  {
   "cell_type": "markdown",
   "metadata": {
    "id": "GKyxSi4dKHO8"
   },
   "source": [
    "## Modelimizi kaydedelim"
   ]
  },
  {
   "cell_type": "code",
   "execution_count": null,
   "metadata": {
    "id": "nuaMxwpvKL2R"
   },
   "outputs": [],
   "source": []
  }
 ],
 "metadata": {
  "colab": {
   "name": "carpriceprediction_template.ipynb",
   "provenance": []
  },
  "kernelspec": {
   "display_name": "Python 3",
   "language": "python",
   "name": "python3"
  },
  "language_info": {
   "codemirror_mode": {
    "name": "ipython",
    "version": 3
   },
   "file_extension": ".py",
   "mimetype": "text/x-python",
   "name": "python",
   "nbconvert_exporter": "python",
   "pygments_lexer": "ipython3",
   "version": "3.8.8"
  }
 },
 "nbformat": 4,
 "nbformat_minor": 1
}
