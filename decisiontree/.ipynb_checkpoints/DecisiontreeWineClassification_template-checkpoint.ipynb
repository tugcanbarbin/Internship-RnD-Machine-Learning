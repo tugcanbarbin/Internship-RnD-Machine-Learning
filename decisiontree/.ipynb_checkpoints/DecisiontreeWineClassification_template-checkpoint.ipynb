{
 "cells": [
  {
   "cell_type": "markdown",
   "metadata": {
    "id": "qGGi1SLoTFDJ"
   },
   "source": [
    "## Çalışma 1\n",
    "\n",
    "\n",
    "## Amaç\n",
    "\n",
    "Bu çalışmanın amaçları;\n",
    "\n",
    "*  Machine learning e giriş yapma\n",
    "*  Scikit librarysini öğrenme\n",
    "*  Decision Tree leri öğrenme\n",
    "\n",
    "## Dataset\n",
    "\n",
    "**Wine Quality Dataset** kırmızı ve beyaz şarapları ve onların 12 tane özelliğini içeren bir datasettir. Sonuç olarak değerlendirdiğimiz özellik ise kalitesi 1 mi 0 mı olduğuna karar vermektir.\n",
    "\n",
    "\n",
    "## Görev\n",
    " Şarap kalitesi iyi(1) veya kötü(0) olarak sınıflandıran **classify** bir decision tree yapmalıyız ve bunu yaparken scikit-learn librarysini kullanacağız"
   ]
  },
  {
   "cell_type": "markdown",
   "metadata": {
    "id": "qGGi1SLoTFDJ"
   },
   "source": [
    "# 1) Dataseti Aç"
   ]
  },
  {
   "cell_type": "code",
   "execution_count": null,
   "metadata": {
    "id": "3OSq7APpS1S9"
   },
   "outputs": [],
   "source": [
    "import pandas as pd\n",
    "import numpy as np\n",
    "\n",
    "train_df = pd.read_csv('/myPathToFile/winequality-train.csv')\n",
    "test_df =pd.read_csv('/myPathToFile/winequality-test.csv') "
   ]
  },
  {
   "cell_type": "markdown",
   "metadata": {
    "id": "HrJR9yrKTPqs"
   },
   "source": [
    "## 2) Dataseti keşfet, anla"
   ]
  },
  {
   "cell_type": "code",
   "execution_count": null,
   "metadata": {
    "id": "r7CcWuvDTZjH"
   },
   "outputs": [],
   "source": [
    "print(train_df.shape)\n",
    "print(test_df.shape)"
   ]
  },
  {
   "cell_type": "code",
   "execution_count": null,
   "metadata": {},
   "outputs": [],
   "source": []
  },
  {
   "cell_type": "code",
   "execution_count": null,
   "metadata": {},
   "outputs": [],
   "source": []
  },
  {
   "cell_type": "markdown",
   "metadata": {
    "id": "l9MJ8WHlTYb1"
   },
   "source": [
    "Verisetiyle ilgili bilgilere bak. \n",
    "\n",
    "Herhangi bir eksik değer var mı ?\n",
    "\n",
    "Boyutu nasıl ?\n",
    "\n",
    "İçindeki değerlerin türü ne ?"
   ]
  },
  {
   "cell_type": "code",
   "execution_count": null,
   "metadata": {
    "id": "dX2rIl1VTqhj"
   },
   "outputs": [],
   "source": []
  },
  {
   "cell_type": "markdown",
   "metadata": {
    "id": "sGCSOtiNTt0N"
   },
   "source": [
    "## 3) Train ve test datalarındaki label kısımlarını y olarak ayır\n",
    "\n",
    "\n",
    "örn.\n",
    "\n",
    "y_train = ....\n",
    "\n",
    "x_train = ...."
   ]
  },
  {
   "cell_type": "code",
   "execution_count": null,
   "metadata": {
    "id": "I7CDlE-GT7iV"
   },
   "outputs": [],
   "source": []
  },
  {
   "cell_type": "markdown",
   "metadata": {
    "id": "jOBwiRKZT72r"
   },
   "source": [
    "# 4) FineTune Decision Tree hyper-parameters\n",
    "\n",
    "1-Train Datatsetini train ve validation olarak ayır"
   ]
  },
  {
   "cell_type": "code",
   "execution_count": null,
   "metadata": {
    "id": "ho5Ni4z-UF3V"
   },
   "outputs": [],
   "source": [
    "# Split training data to 70% training and 30% validation, do not forget to use the random_state parameter"
   ]
  },
  {
   "cell_type": "markdown",
   "metadata": {
    "id": "wDhy4mTJUGDf"
   },
   "source": [
    "2-En iyi minimum sample split i seç\n"
   ]
  },
  {
   "cell_type": "code",
   "execution_count": null,
   "metadata": {
    "id": "pHVsd2q5UgxQ"
   },
   "outputs": [],
   "source": [
    "from sklearn.tree import DecisionTreeClassifier\n",
    "\n",
    "min_samples_splits = range(2, 50)\n",
    "\n",
    "train_results = []\n",
    "val_results = []\n",
    "for min_samples_split in min_samples_splits:\n",
    "\n",
    "  # Fit the tree using the 70% portion of the training data\n",
    "  # buraya kodunuz yaz\n",
    "\n",
    "  # Evaluate on Training set\n",
    "  # buraya kodunuz yaz\n",
    "   \n",
    "  # Evaluate on Validation set\n",
    "  # buraya kodunuz yaz"
   ]
  },
  {
   "cell_type": "markdown",
   "metadata": {
    "id": "9uBhWjh_UtpD"
   },
   "source": [
    "3-Minimum sample split değerlerine göre performans değişimini GÖRSELLEŞTİR"
   ]
  },
  {
   "cell_type": "code",
   "execution_count": null,
   "metadata": {
    "id": "dw-95CxxUvdL"
   },
   "outputs": [],
   "source": [
    "# Plot the results\n",
    "import matplotlib.pyplot as plt\n",
    "\n",
    "plt.plot(min_samples_splits, train_results, 'b')\n",
    "plt.plot(min_samples_splits, val_results,'r')\n",
    "plt.show()"
   ]
  },
  {
   "cell_type": "code",
   "execution_count": null,
   "metadata": {
    "id": "pinzz5isU6m4"
   },
   "outputs": [],
   "source": [
    "# En iyi sample spliti seç\n",
    "Best_minSampl = min_samples_splits[np.argmax(val_results)]  #en iyi minimum split değeri\n",
    "print(Best_minSampl, \" is our best minimum sample split value\")\n",
    "\n",
    "# Tüm train datasıyla en iyi minimum sample split değerini kullanarak decision tree modelini tanımla ve eğit\n",
    "\n",
    "\n",
    "# Estimate the prediction of the test data\n",
    "test_pred = # One line of code\n",
    "\n",
    "from sklearn.metrics import accuracy_score\n",
    "# Calculate accuracy of test data\n",
    "TestAcc = accuracy_score(y_test, test_pred)\n",
    "print(\"Testing Accuracy = %.4f%%\" % (TestAcc * 100))"
   ]
  }
 ],
 "metadata": {
  "colab": {
   "collapsed_sections": [],
   "name": "DecisiontreeWineClassification_template.ipynb",
   "provenance": []
  },
  "kernelspec": {
   "display_name": "Python 3",
   "language": "python",
   "name": "python3"
  },
  "language_info": {
   "codemirror_mode": {
    "name": "ipython",
    "version": 3
   },
   "file_extension": ".py",
   "mimetype": "text/x-python",
   "name": "python",
   "nbconvert_exporter": "python",
   "pygments_lexer": "ipython3",
   "version": "3.8.8"
  }
 },
 "nbformat": 4,
 "nbformat_minor": 1
}
