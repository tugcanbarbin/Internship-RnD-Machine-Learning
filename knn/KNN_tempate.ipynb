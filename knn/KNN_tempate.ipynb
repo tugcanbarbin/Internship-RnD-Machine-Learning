{
 "cells": [
  {
   "cell_type": "markdown",
   "metadata": {
    "id": "_Ofa7JlbLuYA"
   },
   "source": [
    "# Çalışma 6\n",
    "\n",
    "## Bu projede, renkli noktalarla dolu 2 boyutlu düzlemde bu noktaların koordinatlarını ve renklerini içeren bir verisetiyle uğraşacağız.\n",
    "\n",
    "\n",
    "# Amacımız geleneksel machine learning algoritması olan K-NN (Kth Nearest Neighbour) algoritmasını kullanarak bize verilecek olan yeni noktaların koordinatlarına bakarak hangi renge ait olduklarını tahmin etmeye çalışacağız.\n"
   ]
  },
  {
   "cell_type": "markdown",
   "metadata": {
    "id": "GEO56j6VLP1j"
   },
   "source": [
    "## --- Kütüphaneleri yükle \n"
   ]
  },
  {
   "cell_type": "code",
   "execution_count": null,
   "metadata": {
    "id": "HNT4DsjDKjEq"
   },
   "outputs": [],
   "source": []
  },
  {
   "cell_type": "markdown",
   "metadata": {
    "id": "wyi92y6eLkC-"
   },
   "source": [
    "## --- verisetini yükle\n"
   ]
  },
  {
   "cell_type": "code",
   "execution_count": null,
   "metadata": {
    "id": "6N1I9TJ1LpuF"
   },
   "outputs": [],
   "source": []
  },
  {
   "cell_type": "markdown",
   "metadata": {
    "id": "cB7FfWRZLp7j"
   },
   "source": [
    " ## --- verisetini görselleştir"
   ]
  },
  {
   "cell_type": "code",
   "execution_count": null,
   "metadata": {
    "id": "ZZc1Hg9OLr-o"
   },
   "outputs": [],
   "source": []
  },
  {
   "cell_type": "markdown",
   "metadata": {
    "id": "Ml8__nPfLsOG"
   },
   "source": [
    " Distance Functions\n",
    "\n",
    "Up to this point, we utilized euclidiean distance between observations to obtain the similarities. In this task, you are going to explore different distance functions and implement them from scratch. \n",
    "\n",
    "---\n",
    "\n",
    "#### Euclidean Distance\n",
    "\n",
    "Represents the root of the sum of the square of differences between the opposite values in vectors.\n",
    "\n",
    "$\\sqrt{\\sum_{i=0}^N \\, |x_i - y_i|^2}$\n",
    "\n",
    "#### Manhattan Distance\n",
    "\n",
    "Also known as city block distance. Represents the sum of the absolute differences between the opposite values in vectors. \n",
    "\n",
    "$\\sum_{i=0}^N \\, |x_i - y_i|$\n",
    "\n",
    "#### Chebyshev Distance\n",
    "\n",
    "Also known as maximum value distance. The distance between two vectors is the greatest of their difference along any coordinate dimension.\n",
    "\n",
    "$max_i \\; |x_i - y_i|$\n",
    "\n",
    "---\n",
    "\n",
    "<img height=\"200\" width=\"600\" src=\"https://iq.opengenus.org/content/images/2018/12/distance.jpg\"/>\n",
    "\n",
    "\n"
   ]
  },
  {
   "cell_type": "code",
   "execution_count": null,
   "metadata": {
    "id": "tnlxeF0lOp48"
   },
   "outputs": [],
   "source": [
    "# built-in distance functions\n",
    "from scipy.spatial.distance import euclidean, cityblock, chebyshev\n",
    "N = 5\n",
    "np.random.seed(0)\n",
    "x = np.random.randn(N)\n",
    "y = np.random.randn(N)"
   ]
  },
  {
   "cell_type": "code",
   "execution_count": null,
   "metadata": {
    "id": "bgTTEdYQOqug"
   },
   "outputs": [],
   "source": [
    "# benim hazırladığım uzaklık hesaplama fonksiyonlarını kullabilirsiniz\n",
    "import math\n",
    "def euclid(x,y):\n",
    "  sumd2 = 0\n",
    "  for i in range(len(x)):\n",
    "     sumd2 = sumd2 + (x[i]-y[i])*(x[i]-y[i])\n",
    "  return math.sqrt(sumd2)\n",
    "def manhat(x,y):\n",
    "  sumabs =0\n",
    "  for i in range(len(x)):\n",
    "    sumabs = sumabs + abs(x[i]-y[i])\n",
    "  return sumabs\n",
    "def cheby(x,y):\n",
    "  return max(abs(x-y) for x,y in zip(x,y))\n",
    "print(euclid(x,y))\n",
    "print (manhat(x,y))\n",
    "print(cheby(x,y))\n"
   ]
  },
  {
   "cell_type": "markdown",
   "metadata": {
    "id": "zCCbSn7_POgg"
   },
   "source": [
    "\n",
    "## KNN modelini kullanarak ve k = 1 olarak, tüm uzaklık fonksiyonları için ayrı ayrı veriyi görselleştirin \n",
    "\n",
    "örnek yardım kodu :\n",
    "\n",
    " # your code\n",
    "from sklearn.neighbors import KNeighborsClassifier\n",
    "\n",
    "\n",
    "mymodel= KNeighborsClassifier(1, metric=euclid)\n",
    "fig, ax1 = plt.subplots()\n",
    "visualize_model(mymodel,ax1,\"model with euclidian distance\")\n"
   ]
  },
  {
   "cell_type": "code",
   "execution_count": null,
   "metadata": {
    "id": "XkRk3qEdQiGx"
   },
   "outputs": [],
   "source": [
    "def visualize_model(model, ax, title):\n",
    "  step = 0.05\n",
    "\n",
    "  cmap_light = ListedColormap(['orange', 'cyan', 'cornflowerblue'])\n",
    "  cmap_bold = ListedColormap(['darkorange', 'c', 'darkblue'])\n",
    "\n",
    "  data = df[[\"x\", \"y\"]].values\n",
    "  labels = df[\"label\"].values\n",
    "\n",
    "  model.fit(data, labels)\n",
    "\n",
    "  x_min = data[:, 0].min() - 1\n",
    "  x_max = data[:, 0].max() + 1\n",
    "  y_min = data[:, 1].min() - 1\n",
    "  y_max = data[:, 1].max() + 1\n",
    "\n",
    "  xx, yy = np.meshgrid(np.arange(x_min, x_max, step), np.arange(y_min, y_max, step))\n",
    "  y_pred = model.predict(np.hstack([xx.reshape(-1,1), yy.reshape(-1,1)])).reshape(xx.shape)\n",
    "\n",
    "  ax.pcolormesh(xx, yy, y_pred, cmap=cmap_light)\n",
    "  ax.scatter(data[:, 0], data[:, 1], c=labels, cmap=cmap_bold, edgecolor='k', s=20)\n",
    "  ax.set_xlim(xx.min(), xx.max())\n",
    "  ax.set_ylim(yy.min(), yy.max())\n",
    "  ax.set_title(title)"
   ]
  },
  {
   "cell_type": "code",
   "execution_count": null,
   "metadata": {
    "id": "vfUJeQdqQiEc"
   },
   "outputs": [],
   "source": [
    "##buraya kodunuzu yazınız"
   ]
  },
  {
   "cell_type": "markdown",
   "metadata": {
    "id": "gpBYJyyNQitj"
   },
   "source": [
    " # Artık bu yöntemi kullanarak şarap sınıflandırmasına geçebiliriz\n"
   ]
  },
  {
   "cell_type": "code",
   "execution_count": null,
   "metadata": {
    "id": "yk5wHtg8QocJ"
   },
   "outputs": [],
   "source": [
    "from sklearn import datasets\n",
    "\n",
    "wine = datasets.load_wine()\n",
    "cols = wine.feature_names + [\"target\"]\n",
    "df_wine = pd.DataFrame(np.hstack([wine.data, wine.target.reshape(-1,1)]), columns=cols)\n",
    "df_wine[\"target\"] = df_wine[\"target\"].astype(int)\n",
    "df_wine.head()"
   ]
  },
  {
   "cell_type": "code",
   "execution_count": null,
   "metadata": {
    "id": "KhR4zG_2Q-I9"
   },
   "outputs": [],
   "source": [
    "\n",
    "X = df_wine.drop(\"target\", axis=1)\n",
    "y = df_wine[\"target\"]\n",
    "\n",
    "X_train, X_test, y_train, y_test = train_test_split(X, y, test_size=0.20, random_state=0)\n",
    "\n",
    "\n",
    "\n",
    "##knn model euclid\n",
    "knnEuc = KNeighborsClassifier(5, metric=euclid)\n",
    "knnEuc.fit(X_train, y_train)\n",
    "y_pred = knnEuc.predict(X_test)\n",
    "accuracyEuc = f\"{accuracy_score(y_test, y_pred):.2f}\"\n",
    "\n",
    "'''Aşağıdaki kısımları üsttekine benzer şekilde doldurunuz'''\n",
    "\n",
    "#knn model cityblock\n",
    "#bureaya kodunuzu yazınız\n",
    "\n",
    "#knn model chebyshev\n",
    "#bureaya kodunuzu yazınız\n",
    "\n",
    "print(accuracyEuc)\n",
    "print(accuracyMan) #### their accuracy\n",
    "print(accuracyChe)\n"
   ]
  },
  {
   "cell_type": "code",
   "execution_count": null,
   "metadata": {
    "id": "bBfRgZv6RSHA"
   },
   "outputs": [],
   "source": [
    "'''Modeli güçlendirmek için değerlerimizi standartize ediyoruz ve aynı işlemi gerçekleştiriyoruz'''\n",
    "\n",
    "scalerX = StandardScaler() # standardized \n",
    "standartTest = scalerX.fit_transform(X_test)\n",
    "standartTrain = scalerX.fit_transform(X_train)\n",
    "\n",
    "\n",
    "#standardized knn model euclid\n",
    "#bureaya kodunuzu yazınız\n",
    "\n",
    "#standardized knn model Manhattan\n",
    "#bureaya kodunuzu yazınız\n",
    "\n",
    "#standardized knn model chebyshev\n",
    "#bureaya kodunuzu yazınız\n",
    "\n",
    "print(accuracyEucSt)\n",
    "print(accuracyManSt)\n",
    "print(accuracycheSt)"
   ]
  },
  {
   "cell_type": "markdown",
   "metadata": {
    "id": "h_q84A3bRo-4"
   },
   "source": [
    "# SORU\n",
    "\n",
    "## 1 ) Veriyi standardize etmemiz performansı nasıl etkiledi ve neden bu şekilde etkiledi ?\n",
    "\n",
    "## 2 ) Bu veri setinde en iyi sonuç veren uzaklık hesaplama yöntemi hangisiydi ?\n"
   ]
  },
  {
   "cell_type": "markdown",
   "metadata": {
    "id": "S33Ze6pwRo8k"
   },
   "source": [
    "buraya cevaplarınızı yazabilirsiniz\n"
   ]
  }
 ],
 "metadata": {
  "colab": {
   "collapsed_sections": [],
   "name": "KNN_tempate.ipynb",
   "provenance": []
  },
  "kernelspec": {
   "display_name": "Python 3",
   "language": "python",
   "name": "python3"
  },
  "language_info": {
   "codemirror_mode": {
    "name": "ipython",
    "version": 3
   },
   "file_extension": ".py",
   "mimetype": "text/x-python",
   "name": "python",
   "nbconvert_exporter": "python",
   "pygments_lexer": "ipython3",
   "version": "3.8.8"
  }
 },
 "nbformat": 4,
 "nbformat_minor": 1
}
