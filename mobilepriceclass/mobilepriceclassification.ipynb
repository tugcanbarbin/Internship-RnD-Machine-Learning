{
  "nbformat": 4,
  "nbformat_minor": 0,
  "metadata": {
    "colab": {
      "name": "mobilepriceclassification.ipynb",
      "provenance": [],
      "collapsed_sections": []
    },
    "kernelspec": {
      "name": "python3",
      "display_name": "Python 3"
    },
    "language_info": {
      "name": "python"
    }
  },
  "cells": [
    {
      "cell_type": "markdown",
      "metadata": {
        "id": "UA-wIECQ3-kL"
      },
      "source": [
        "So, since our task is to classify the price range of mobile phones and not to predict the actual prices, so here I am going to train a classification model to classify the price range of mobile phones as:\n",
        "\n",
        "0 (low cost)\n",
        "1 (medium cost)\n",
        "2 (high cost)\n",
        "3 (very high cost)\n",
        "I will start the task of mobile price classification with machine learning by importing the necessary Python libraries and the dataset:"
      ]
    },
    {
      "cell_type": "code",
      "metadata": {
        "id": "T1J7PCFf2TjK"
      },
      "source": [
        "import numpy as np\n",
        "import pandas as pd\n",
        "import matplotlib.pyplot as plt\n",
        "import seaborn as sns\n",
        "from sklearn.model_selection import train_test_split\n",
        "from sklearn.preprocessing import StandardScaler\n",
        "from sklearn.linear_model import LogisticRegression\n",
        "from sklearn.metrics import accuracy_score\n",
        "sns.set()\n",
        "\n",
        "data = pd.read_csv(\"mobile_prices.csv\")\n",
        "print(data.head())"
      ],
      "execution_count": null,
      "outputs": []
    },
    {
      "cell_type": "markdown",
      "metadata": {
        "id": "KSwYKq9s4HMX"
      },
      "source": [
        "So the dataset contains 21 columns and luckily this dataset has no missing values, so we can just start by training the model, but before that let’s take a look at the correlation between the features in the dataset:"
      ]
    },
    {
      "cell_type": "code",
      "metadata": {
        "id": "K-zM48s43qMv"
      },
      "source": [
        "plt.figure(figsize=(12, 10))\n",
        "sns.heatmap(data.corr(), annot=True, cmap=\"coolwarm\", linecolor='white', linewidths=1)"
      ],
      "execution_count": null,
      "outputs": []
    },
    {
      "cell_type": "markdown",
      "metadata": {
        "id": "23Bx0HpP4JVk"
      },
      "source": [
        "Data Preparation\n",
        "This dataset has no categorical features, so we can just use this data without any transformation because all the features of the dataset are numeric. But to train a model, it is very important to standardize or normalize the data and break it up into training and testing sets.\n",
        "\n",
        "So let’s standardize the dataset and divide the data into 80% training and 20% testing:"
      ]
    },
    {
      "cell_type": "code",
      "metadata": {
        "id": "kpuCSQib4Luh"
      },
      "source": [
        "x = data.iloc[:, :-1].values\n",
        "y = data.iloc[:, -1].values\n",
        "x = StandardScaler().fit_transform(x)\n",
        "x_train, x_test, y_train, y_test = train_test_split(x, y, test_size=0.20, random_state=0)"
      ],
      "execution_count": null,
      "outputs": []
    },
    {
      "cell_type": "markdown",
      "metadata": {
        "id": "H9szmdKk4NQE"
      },
      "source": [
        "Now let’s train the mobile price classification model using Python. As this is a problem of classification, I will be using the Logistic Regression algorithm provided by Scikit-learn:"
      ]
    },
    {
      "cell_type": "code",
      "metadata": {
        "id": "JxMOcNlL4PqB"
      },
      "source": [
        "from sklearn.linear_model import LogisticRegression\n",
        "lreg = LogisticRegression()\n",
        "lreg.fit(x_train, y_train)\n",
        "y_pred = lreg.predict(x_test)"
      ],
      "execution_count": null,
      "outputs": []
    },
    {
      "cell_type": "markdown",
      "metadata": {
        "id": "z4hBEMyS4TFX"
      },
      "source": [
        "Now let’s have a look at the accuracy of the model:"
      ]
    },
    {
      "cell_type": "code",
      "metadata": {
        "id": "EJSeT6gk4VFR"
      },
      "source": [
        "accuracy = accuracy_score(y_test, y_pred) * 100\n",
        "print(\"Accuracy of the Logistic Regression Model: \",accuracy)"
      ],
      "execution_count": null,
      "outputs": []
    },
    {
      "cell_type": "markdown",
      "metadata": {
        "id": "2wBV0YjF4Y2n"
      },
      "source": [
        "So the model gives an accuracy of about 95.5% which is great. Now let’s have a look at the predictions made by the model:"
      ]
    },
    {
      "cell_type": "code",
      "metadata": {
        "id": "VM6Wl7--4bC0"
      },
      "source": [
        "print(y_pred)"
      ],
      "execution_count": null,
      "outputs": []
    },
    {
      "cell_type": "markdown",
      "metadata": {
        "id": "aIZMe-hJ4bq9"
      },
      "source": [
        "The above output shows the price range classified by the model. Let’s have a look at the number of mobile phones classified for each price range:"
      ]
    },
    {
      "cell_type": "code",
      "metadata": {
        "id": "FPw0if6P4efr"
      },
      "source": [
        "(unique, counts) = np.unique(y_pred, return_counts=True)\n",
        "price_range = np.asarray((unique, counts)).T\n",
        "print(price_range)"
      ],
      "execution_count": null,
      "outputs": []
    }
  ]
}