{
 "cells": [
  {
   "cell_type": "markdown",
   "metadata": {
    "id": "8GbWIkEp4tFT"
   },
   "source": [
    "# Çalışma 7\n",
    "\n",
    "## Bu projemizde telefonların tam olarak fiyatını değil, fiyatlarının seviyelerini tahmin etmeye çalışacağız\n",
    "\n",
    "-0 düşük fiyat\n",
    "\n",
    "-1 orta fiyat\n",
    "\n",
    "-2 yüksek fiyat\n",
    "\n",
    "-3 çok yüksek fiyat\n",
    "\n",
    "bu tahmin sürecini logistic regression kullanarak yapacağız. Bu yüzden, başlamadan önce logistic regresyonu araştırmalısınız."
   ]
  },
  {
   "cell_type": "markdown",
   "metadata": {
    "id": "Qw_PDpIS5pUC"
   },
   "source": [
    "# kütüphaneleri importla"
   ]
  },
  {
   "cell_type": "code",
   "execution_count": null,
   "metadata": {
    "id": "mtbXmH4S38-b"
   },
   "outputs": [],
   "source": [
    "import matplotlib.pyplot as plt\n",
    "import seaborn as sns\n",
    "\n"
   ]
  },
  {
   "cell_type": "markdown",
   "metadata": {
    "id": "XpOGS78i5n0n"
   },
   "source": [
    "\n",
    "datamızda 21 adet sütun var ve herhangi bir eksik data yok. \n",
    "\n",
    "## Öncelikle özelliklerimizin korelasyonuna bakalım\n"
   ]
  },
  {
   "cell_type": "code",
   "execution_count": null,
   "metadata": {
    "id": "qSWr67Dx6BXo"
   },
   "outputs": [],
   "source": [
    "plt.figure(figsize=(12, 10))\n",
    "sns.heatmap(data.corr(), annot=True, cmap=\"coolwarm\", linecolor='white', linewidths=1)"
   ]
  },
  {
   "cell_type": "markdown",
   "metadata": {
    "id": "U8uM5U055ov-"
   },
   "source": [
    "Kategorisel bir datamız da yok. Bu yüzden herhangi bir data dönüştürme yapmamıza gerek yok. Ancak değerlerimiz yüksek olduğu için ## standardize ve normalize etmeliyiz ##\n"
   ]
  },
  {
   "cell_type": "code",
   "execution_count": null,
   "metadata": {
    "id": "kL0R6dYg6dwC"
   },
   "outputs": [],
   "source": []
  },
  {
   "cell_type": "markdown",
   "metadata": {
    "id": "RomLIR2-6edL"
   },
   "source": [
    "## datamızı %80 train %20 test olarak bölelim"
   ]
  },
  {
   "cell_type": "code",
   "execution_count": null,
   "metadata": {
    "id": "KfYnJ9F_6ofv"
   },
   "outputs": [],
   "source": []
  },
  {
   "cell_type": "markdown",
   "metadata": {
    "id": "NOha2nBH6ouC"
   },
   "source": [
    "## Modelimizi trainleyelim. klasifikasyon yapıcağımız için logistic regression kullanacağız"
   ]
  },
  {
   "cell_type": "code",
   "execution_count": null,
   "metadata": {
    "id": "uzbUv1Hq63pX"
   },
   "outputs": [],
   "source": [
    "from sklearn.linear_model import LogisticRegression"
   ]
  },
  {
   "cell_type": "markdown",
   "metadata": {
    "id": "IhmFUdom69EJ"
   },
   "source": [
    "## Modelimizi test datası üzerinde test edelim\n"
   ]
  },
  {
   "cell_type": "code",
   "execution_count": null,
   "metadata": {
    "id": "lLcRqEiu69_i"
   },
   "outputs": [],
   "source": []
  }
 ],
 "metadata": {
  "colab": {
   "name": "mobileproceprediction_template",
   "provenance": []
  },
  "kernelspec": {
   "display_name": "Python 3",
   "language": "python",
   "name": "python3"
  },
  "language_info": {
   "codemirror_mode": {
    "name": "ipython",
    "version": 3
   },
   "file_extension": ".py",
   "mimetype": "text/x-python",
   "name": "python",
   "nbconvert_exporter": "python",
   "pygments_lexer": "ipython3",
   "version": "3.8.8"
  }
 },
 "nbformat": 4,
 "nbformat_minor": 1
}
