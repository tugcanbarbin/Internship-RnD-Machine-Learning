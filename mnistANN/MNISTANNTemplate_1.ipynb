{
 "cells": [
  {
   "cell_type": "markdown",
   "metadata": {
    "id": "60-WUrz_ePKk"
   },
   "source": [
    "# Çalışma 4\n",
    "\n",
    "## Bu projemizde büyük ve çok kullanılan bir dataset olan MNIST datasetini kullanacağız. MNIST datasetindeki görsellerin hangi rakam olduğunu ANN- Artificial neural network modelimizi kullanarak tahmin etmeye çalışacağız\n",
    "\n",
    "# Bu projeye başlamadan önce Artificial neural network machine learning modelini ve nasıl hyperparameter tuning yapıldığını, onların ne işe yaradığını araştırmalısınız."
   ]
  },
  {
   "cell_type": "code",
   "execution_count": null,
   "metadata": {
    "id": "eEEsAwIzeMZx"
   },
   "outputs": [],
   "source": [
    "# Python Project Template\n",
    "# 1. Prepare Problem #\n",
    "# a) Load libraries\n",
    "# b) Load dataset\n",
    "\n",
    "# 2. Summarize Data \n",
    "# a) Descriptive statistics \n",
    "# b) Data visualizations\n",
    "\n",
    "# 3. Prepare Data \n",
    "# a) Data Cleaning \n",
    "# b) Feature Selection \n",
    "# c) Data Transforms\n",
    "\n",
    "# 4. Evaluate Algorithms \n",
    "# a) Split-out validation dataset \n",
    "# b) Test options and evaluation metric \n",
    "# c) Spot Check Algorithms "
   ]
  },
  {
   "cell_type": "markdown",
   "metadata": {
    "id": "p9kgIj37ejJ1"
   },
   "source": [
    "# 1. Hazırlık #\n",
    "# a) Kütüphaneleri ekle"
   ]
  },
  {
   "cell_type": "code",
   "execution_count": null,
   "metadata": {
    "id": "1AMC6R_WeiJh"
   },
   "outputs": [],
   "source": [
    "from keras.datasets import mnist\n",
    "# a) diğer kütüphaneleri de ekle"
   ]
  },
  {
   "cell_type": "markdown",
   "metadata": {
    "id": "mLlD3RGjenCs"
   },
   "source": [
    "# 2. Datayı özetle\n",
    "# a) İstatistiksel olarak datayı anlat, göster"
   ]
  },
  {
   "cell_type": "code",
   "execution_count": null,
   "metadata": {
    "id": "z_T7kWJ3epco"
   },
   "outputs": [],
   "source": []
  },
  {
   "cell_type": "markdown",
   "metadata": {
    "id": "X3SVOdCRepvj"
   },
   "source": [
    "# b) Datayı görselleştir"
   ]
  },
  {
   "cell_type": "code",
   "execution_count": null,
   "metadata": {
    "id": "sVm4d-8LeqYf"
   },
   "outputs": [],
   "source": []
  },
  {
   "cell_type": "markdown",
   "metadata": {
    "id": "s_ImnzJaeqpZ"
   },
   "source": [
    "# c) Data Dönüşümü\n",
    "\n",
    "\n",
    "#-Inputlarımızı 2 boyutlu (2D) array haline getir. \n",
    "\n",
    "#-daha küçük sayılarda çalışmak için datayı normalize et"
   ]
  },
  {
   "cell_type": "code",
   "execution_count": null,
   "metadata": {
    "id": "5dcgdUrse029"
   },
   "outputs": [],
   "source": []
  },
  {
   "cell_type": "markdown",
   "metadata": {
    "id": "BNmTCeLxe7GG"
   },
   "source": [
    "#Artificial Neural Network\n",
    "# c) Algoritmayı dene \n",
    "1- modeli oluştur\n",
    "\n",
    "2- modeli eğit, farklı hyperparameterler (farklı layer sayıları, farklı nöron sayıları, vb.) deneyerek modeli geliştirmeye çalış"
   ]
  },
  {
   "cell_type": "code",
   "execution_count": null,
   "metadata": {
    "id": "H3ZvGoQee6t1"
   },
   "outputs": [],
   "source": []
  },
  {
   "cell_type": "markdown",
   "metadata": {
    "id": "1K-wf4J_h3h3"
   },
   "source": [
    "\n",
    "3- modeli test datasında test et ve accuracy i gözlemle"
   ]
  },
  {
   "cell_type": "code",
   "execution_count": null,
   "metadata": {
    "id": "d_PJik_hh4Fw"
   },
   "outputs": [],
   "source": []
  }
 ],
 "metadata": {
  "colab": {
   "collapsed_sections": [],
   "name": "MNISTLogisticRegressionTemplate-1.ipynb",
   "provenance": []
  },
  "kernelspec": {
   "display_name": "Python 3",
   "language": "python",
   "name": "python3"
  },
  "language_info": {
   "codemirror_mode": {
    "name": "ipython",
    "version": 3
   },
   "file_extension": ".py",
   "mimetype": "text/x-python",
   "name": "python",
   "nbconvert_exporter": "python",
   "pygments_lexer": "ipython3",
   "version": "3.8.8"
  }
 },
 "nbformat": 4,
 "nbformat_minor": 1
}
