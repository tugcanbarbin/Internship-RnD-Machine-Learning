{
 "cells": [
  {
   "cell_type": "markdown",
   "metadata": {
    "id": "0ttsKdScdhUo"
   },
   "source": [
    "# Çalışma 3\n",
    "\n",
    "##Bu projemizde büyük ve çok kullanılan bir dataset olan MNIST datasetini kullanacağız. MNIST datasetindeki görsellerin hangi rakam olduğunu logistic regression modelimizi kullanarak tahmin etmeye çalışacağız\n",
    "\n",
    "#Bu projeye başlamadan önce logistic regresyon machine learning modelini ve nasıl hyperparameter tuning yapıldığını, onların ne işe yaradığını araştırmalısınız."
   ]
  },
  {
   "cell_type": "code",
   "execution_count": null,
   "metadata": {
    "id": "q3LQZdCNbBDB"
   },
   "outputs": [],
   "source": [
    "# Python Project Template\n",
    "# 1. Prepare Problem #\n",
    "# a) Load libraries\n",
    "# b) Load dataset\n",
    "\n",
    "# 2. Summarize Data \n",
    "# a) Descriptive statistics \n",
    "# b) Data visualizations\n",
    "\n",
    "# 3. Prepare Data \n",
    "# a) Data Cleaning \n",
    "# b) Feature Selection \n",
    "# c) Data Transforms\n",
    "\n",
    "# 4. Evaluate Algorithms \n",
    "# a) Split-out validation dataset \n",
    "# b) Test options and evaluation metric \n",
    "# c) Spot Check Algorithms \n"
   ]
  },
  {
   "cell_type": "markdown",
   "metadata": {
    "id": "vzG_XPRcbNgI"
   },
   "source": [
    "# 1. Hazırlık #\n",
    "# a) Kütüphaneleri ekle"
   ]
  },
  {
   "cell_type": "code",
   "execution_count": null,
   "metadata": {
    "id": "vATkvsx6bOXQ"
   },
   "outputs": [],
   "source": [
    "from keras.datasets import mnist\n",
    "# a) diğer kütüphaneleri de ekle"
   ]
  },
  {
   "cell_type": "markdown",
   "metadata": {
    "id": "YRqfgZI6bTtM"
   },
   "source": [
    "# b) load dataset"
   ]
  },
  {
   "cell_type": "code",
   "execution_count": null,
   "metadata": {
    "id": "Yg7sZZjtbX7S"
   },
   "outputs": [],
   "source": [
    "(trainX, trainy), (testX, testy) = mnist.load_data()"
   ]
  },
  {
   "cell_type": "markdown",
   "metadata": {
    "id": "KXMMGMn8bqiG"
   },
   "source": [
    "# 2. Datayı özetle\n",
    "# a) İstatistiksel olarak datayı anlat, göster"
   ]
  },
  {
   "cell_type": "code",
   "execution_count": null,
   "metadata": {
    "id": "QIWCP9I8bvrX"
   },
   "outputs": [],
   "source": []
  },
  {
   "cell_type": "markdown",
   "metadata": {
    "id": "SXlUYontbzJC"
   },
   "source": [
    "# b) Datayı görselleştir"
   ]
  },
  {
   "cell_type": "code",
   "execution_count": null,
   "metadata": {
    "id": "D2CRWKJHb1zR"
   },
   "outputs": [],
   "source": []
  },
  {
   "cell_type": "markdown",
   "metadata": {
    "id": "y51A9Q4Ub1eN"
   },
   "source": [
    "# 3. Datayı hazırla\n",
    "# a) Data temizliği, eğer varsa bozuk veya eksik dataları gözden geçir, doldur"
   ]
  },
  {
   "cell_type": "code",
   "execution_count": null,
   "metadata": {
    "id": "C0iuxDTvcFQr"
   },
   "outputs": [],
   "source": []
  },
  {
   "cell_type": "markdown",
   "metadata": {
    "id": "6MY6UjxacFmk"
   },
   "source": [
    "# b) Özellik seçimi\n",
    "\n",
    "Eğer bizim işimize yaramayacak fazladan bir data özelliği varsa ondan kurtul, yoksa aynen bırak\n",
    "\n"
   ]
  },
  {
   "cell_type": "code",
   "execution_count": null,
   "metadata": {
    "id": "YG-PuEoCcTKA"
   },
   "outputs": [],
   "source": []
  },
  {
   "cell_type": "markdown",
   "metadata": {
    "id": "5M33IVJhcTbg"
   },
   "source": [
    "# c) Data Dönüşümü\n",
    "\n",
    "\n",
    "#-Inputlarımızı 2 boyutlu (2D) array haline getir. \n",
    "\n",
    "#-daha küçük sayılarda çalışmak için datayı normalize et"
   ]
  },
  {
   "cell_type": "code",
   "execution_count": null,
   "metadata": {
    "id": "SS1lHHsBcr6o"
   },
   "outputs": [],
   "source": []
  },
  {
   "cell_type": "markdown",
   "metadata": {
    "id": "xTYeEHLicsJE"
   },
   "source": [
    "# 4. Algoritmaları dene\n",
    "# a) Validation data seti hazırla\n",
    "\n"
   ]
  },
  {
   "cell_type": "code",
   "execution_count": null,
   "metadata": {
    "id": "yqE_zrbTc6Km"
   },
   "outputs": [],
   "source": [
    "validation_split = 0.2"
   ]
  },
  {
   "cell_type": "markdown",
   "metadata": {
    "id": "L_3CRtKXc9HU"
   },
   "source": [
    "#Logistic Regression\n",
    "# c) Algoritmayı dene \n",
    "1- modeli oluştur\n",
    "\n",
    "2- modeli eğit, farklı hyperparameterler deneyerek modeli geliştirmeye çalış\n"
   ]
  },
  {
   "cell_type": "code",
   "execution_count": null,
   "metadata": {
    "id": "CAsqnKkrdZat"
   },
   "outputs": [],
   "source": []
  },
  {
   "cell_type": "markdown",
   "metadata": {
    "id": "VvJnw-_MdZyk"
   },
   "source": [
    "\n",
    "3- modeli test datasında test et ve accuracy i gözlemle\n"
   ]
  },
  {
   "cell_type": "code",
   "execution_count": null,
   "metadata": {
    "id": "r7m_8tEzdaY4"
   },
   "outputs": [],
   "source": []
  }
 ],
 "metadata": {
  "colab": {
   "collapsed_sections": [],
   "name": "MNIST-ANNTemplate-2.ipynb",
   "provenance": []
  },
  "kernelspec": {
   "display_name": "Python 3",
   "language": "python",
   "name": "python3"
  },
  "language_info": {
   "codemirror_mode": {
    "name": "ipython",
    "version": 3
   },
   "file_extension": ".py",
   "mimetype": "text/x-python",
   "name": "python",
   "nbconvert_exporter": "python",
   "pygments_lexer": "ipython3",
   "version": "3.8.8"
  }
 },
 "nbformat": 4,
 "nbformat_minor": 1
}
